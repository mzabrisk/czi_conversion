{
 "cells": [
  {
   "cell_type": "code",
   "execution_count": 26,
   "metadata": {},
   "outputs": [],
   "source": [
    "import numpy as np\n",
    "import aicspylibczi\n",
    "import pathlib\n",
    "from PIL import Image\n",
    "from aicspylibczi import CziFile\n",
    "from pathlib import Path\n",
    "import matplotlib.pyplot as plt\n",
    "import os\n",
    "import czifile\n",
    "import tifffile\n",
    "from tqdm import tqdm\n",
    "\n",
    "mosaic_file = pathlib.Path('czi_files/2023_03_02__0005.czi')\n",
    "czi = aicspylibczi.CziFile(mosaic_file)\n"
   ]
  },
  {
   "cell_type": "code",
   "execution_count": 27,
   "metadata": {},
   "outputs": [],
   "source": [
    "# define helper functions\n",
    "def norm_by(x, min_, max_):\n",
    "    norms = np.percentile(x, [min_, max_])\n",
    "    i2 = np.clip((x - norms[0]) / (norms[1] - norms[0]), 0, 1)\n",
    "    return i2\n",
    "\n",
    "\n",
    "def recolor(im):  # transform from rgb to cyan-magenta-yellow\n",
    "    im_shape = np.array(im.shape)\n",
    "    color_transform = np.array([[1, 1, 0], [0, 1, 1], [1, 0, 1]]).T\n",
    "    im_reshape = im.reshape([np.prod(im_shape[0:2]), im_shape[2]]).T\n",
    "    im_recolored = np.matmul(color_transform.T, im_reshape).T\n",
    "    im_shape[2] = 3\n",
    "    im = im_recolored.reshape(im_shape)\n",
    "    return im"
   ]
  },
  {
   "cell_type": "code",
   "execution_count": 28,
   "metadata": {},
   "outputs": [
    {
     "data": {
      "text/plain": [
       "'SCMYXA'"
      ]
     },
     "execution_count": 28,
     "metadata": {},
     "output_type": "execute_result"
    }
   ],
   "source": [
    "# Get the shape of the data\n",
    "dimensions = czi.dims  # 'STCZMYX'\n",
    "dimensions"
   ]
  },
  {
   "cell_type": "code",
   "execution_count": 29,
   "metadata": {},
   "outputs": [
    {
     "data": {
      "text/plain": [
       "(1, 1, 124, 1200, 1600, 3)"
      ]
     },
     "execution_count": 29,
     "metadata": {},
     "output_type": "execute_result"
    }
   ],
   "source": [
    "czi.size  # (1, 1, 1, 1, 2, 624, 924)"
   ]
  },
  {
   "cell_type": "code",
   "execution_count": 30,
   "metadata": {},
   "outputs": [
    {
     "data": {
      "text/plain": [
       "[{'A': (0, 3),\n",
       "  'X': (0, 1600),\n",
       "  'Y': (0, 1200),\n",
       "  'C': (0, 1),\n",
       "  'M': (0, 124),\n",
       "  'S': (0, 1)}]"
      ]
     },
     "execution_count": 30,
     "metadata": {},
     "output_type": "execute_result"
    }
   ],
   "source": [
    "czi.get_dims_shape()  # [{'X': (0, 924), 'Y': (0, 624), 'Z': (0, 1), 'C': (0, 1), 'T': (0, 1), 'M': (0, 2), 'S': (0, 1)}]"
   ]
  },
  {
   "cell_type": "code",
   "execution_count": 31,
   "metadata": {},
   "outputs": [
    {
     "data": {
      "text/plain": [
       "True"
      ]
     },
     "execution_count": 31,
     "metadata": {},
     "output_type": "execute_result"
    }
   ],
   "source": [
    "czi.is_mosaic()  # True"
   ]
  },
  {
   "cell_type": "code",
   "execution_count": 32,
   "metadata": {},
   "outputs": [
    {
     "data": {
      "text/plain": [
       "array([[[[0, 0, 0],\n",
       "         [0, 0, 0],\n",
       "         [0, 0, 0],\n",
       "         ...,\n",
       "         [0, 0, 0],\n",
       "         [0, 0, 0],\n",
       "         [0, 0, 0]],\n",
       "\n",
       "        [[0, 0, 0],\n",
       "         [0, 0, 0],\n",
       "         [0, 0, 0],\n",
       "         ...,\n",
       "         [0, 0, 0],\n",
       "         [0, 0, 0],\n",
       "         [0, 0, 0]],\n",
       "\n",
       "        [[0, 0, 0],\n",
       "         [0, 0, 0],\n",
       "         [0, 0, 0],\n",
       "         ...,\n",
       "         [0, 0, 0],\n",
       "         [0, 0, 0],\n",
       "         [0, 0, 0]],\n",
       "\n",
       "        ...,\n",
       "\n",
       "        [[0, 0, 0],\n",
       "         [0, 0, 0],\n",
       "         [0, 0, 0],\n",
       "         ...,\n",
       "         [0, 0, 0],\n",
       "         [0, 0, 0],\n",
       "         [0, 0, 0]],\n",
       "\n",
       "        [[0, 0, 0],\n",
       "         [0, 0, 0],\n",
       "         [0, 0, 0],\n",
       "         ...,\n",
       "         [0, 0, 0],\n",
       "         [0, 0, 0],\n",
       "         [0, 0, 0]],\n",
       "\n",
       "        [[0, 0, 0],\n",
       "         [0, 0, 0],\n",
       "         [0, 0, 0],\n",
       "         ...,\n",
       "         [0, 0, 0],\n",
       "         [0, 0, 0],\n",
       "         [0, 0, 0]]]], dtype=uint8)"
      ]
     },
     "execution_count": 32,
     "metadata": {},
     "output_type": "execute_result"
    }
   ],
   "source": [
    "# Mosaic files ignore the S dimension and use an internal mIndex to reconstruct, the scale factor allows one to generate a manageable image\n",
    "mosaic_data = czi.read_mosaic(C=0, scale_factor=1)\n",
    "mosaic_data"
   ]
  },
  {
   "cell_type": "code",
   "execution_count": 33,
   "metadata": {},
   "outputs": [
    {
     "data": {
      "text/plain": [
       "(1, 18496, 16008, 3)"
      ]
     },
     "execution_count": 33,
     "metadata": {},
     "output_type": "execute_result"
    }
   ],
   "source": [
    "mosaic_data.shape  # (1, 1, 624, 1756)\n",
    "# the C channel has been specified S & M are used internally for position so this is (T, Z, Y, X)"
   ]
  },
  {
   "cell_type": "code",
   "execution_count": 34,
   "metadata": {},
   "outputs": [
    {
     "data": {
      "text/plain": [
       "array([[0., 0., 0.],\n",
       "       [0., 0., 0.],\n",
       "       [0., 0., 0.],\n",
       "       ...,\n",
       "       [0., 0., 0.],\n",
       "       [0., 0., 0.],\n",
       "       [0., 0., 0.]])"
      ]
     },
     "execution_count": 34,
     "metadata": {},
     "output_type": "execute_result"
    }
   ],
   "source": [
    "normed_mosaic_data = norm_by(mosaic_data[0, 0, :, :], 5, 98) * 255\n",
    "normed_mosaic_data"
   ]
  },
  {
   "cell_type": "code",
   "execution_count": 35,
   "metadata": {},
   "outputs": [],
   "source": [
    "img = Image.fromarray(normed_mosaic_data.astype(np.uint8))"
   ]
  },
  {
   "cell_type": "code",
   "execution_count": 38,
   "metadata": {},
   "outputs": [
    {
     "name": "stderr",
     "output_type": "stream",
     "text": [
      "/var/folders/l_/nymzk9_d07q4wpr9pf8wg5ym0000gp/T/ipykernel_52310/3147606794.py:9: DeprecationWarning: <tifffile.imsave> is deprecated. Use tifffile.imwrite\n",
      "  tifffile.imsave(tiff_file, mosaic_data)\n"
     ]
    }
   ],
   "source": [
    "    tiff_dir = '/Users/mattzabriskie/Desktop/czi_conversion'\n",
    "    filename = 'czi_files/2023_03_02__0005'\n",
    "    \n",
    "    \n",
    "    # Construct the output file path (change the extension to .tiff)\n",
    "    tiff_file = os.path.join(tiff_dir, os.path.splitext(filename)[0] + '.tiff')\n",
    "    \n",
    "    # Save as a TIFF file\n",
    "    tifffile.imsave(tiff_file, mosaic_data)"
   ]
  },
  {
   "cell_type": "code",
   "execution_count": null,
   "metadata": {},
   "outputs": [],
   "source": [
    "import os\n",
    "import czifile\n",
    "import tifffile\n",
    "from tqdm import tqdm\n",
    "\n",
    "# Path to directory containing the CZI files\n",
    "czi_dir = '/Users/mattzabriskie/Desktop/czi_conversion/czi_files'\n",
    "tiff_dir = '/Users/mattzabriskie/Desktop/czi_conversion'\n",
    "\n",
    "# Directory to save the TIFF files\n",
    "# creates subfolder within directory 'TIFF files'\n",
    "tiff_dir = os.path.join(tiff_dir, 'tiff_files')\n",
    "os.makedirs(tiff_dir, exist_ok=True)\n",
    "\n",
    "# Get all files in directory ending with '.czi'\n",
    "czi_files = [file for file in os.listdir(czi_dir) if file.endswith('.czi')]\n",
    "\n",
    "\n",
    "# Loop over all files in the directory\n",
    "for filename in tqdm(czi_files, desc=\"Converting files\"):\n",
    "    # Construct the full file path\n",
    "    czi_file = os.path.join(czi_dir, filename)\n",
    "    print(filename)\n",
    "\n",
    "    try:\n",
    "        # Try to read the CZI file\n",
    "        with czifile.CziFile(czi_file) as czi:\n",
    "            img_data = czi.asarray()\n",
    "\n",
    "    except Exception as e:\n",
    "        print(f\"File {filename} raised an error during processing: {str(e)}. Continuing with next file.\")        \n",
    "        continue\n",
    "        \n",
    "    # Construct the output file path (change the extension to .tiff)\n",
    "    tiff_file = os.path.join(tiff_dir, os.path.splitext(filename)[0] + '.tiff')\n",
    "    \n",
    "    # Save as a TIFF file\n",
    "    tifffile.imsave(tiff_file, img_data)\n",
    "\n",
    "print(\"All CZI files have been converted to TIFF.\")\n"
   ]
  }
 ],
 "metadata": {
  "kernelspec": {
   "display_name": "PythonData",
   "language": "python",
   "name": "python3"
  },
  "language_info": {
   "codemirror_mode": {
    "name": "ipython",
    "version": 3
   },
   "file_extension": ".py",
   "mimetype": "text/x-python",
   "name": "python",
   "nbconvert_exporter": "python",
   "pygments_lexer": "ipython3",
   "version": "3.9.16"
  },
  "orig_nbformat": 4
 },
 "nbformat": 4,
 "nbformat_minor": 2
}
