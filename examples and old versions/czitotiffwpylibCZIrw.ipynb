{
 "cells": [
  {
   "cell_type": "code",
   "execution_count": 2,
   "metadata": {},
   "outputs": [],
   "source": [
    "import numpy as np\n",
    "from aicspylibczi import CziFile\n",
    "from pathlib import Path\n",
    "import matplotlib.pyplot as plt\n",
    "\n",
    "pth = Path('czi_files/2023_03_02__0005.czi')\n",
    "czi = CziFile(pth)\n"
   ]
  },
  {
   "cell_type": "code",
   "execution_count": 3,
   "metadata": {},
   "outputs": [
    {
     "data": {
      "text/plain": [
       "[{'A': (0, 3),\n",
       "  'X': (0, 1600),\n",
       "  'Y': (0, 1200),\n",
       "  'C': (0, 1),\n",
       "  'M': (0, 124),\n",
       "  'S': (0, 1)}]"
      ]
     },
     "execution_count": 3,
     "metadata": {},
     "output_type": "execute_result"
    }
   ],
   "source": [
    "# Get the shape of the data, the coordinate pairs are (start index, size)\n",
    "dimensions = czi.get_dims_shape()  # [{'X': (0, 1900), 'Y': (0, 1300), 'Z': (0, 60), 'C': (0, 4), 'S': (0, 40), 'B': (0, 1)}]\n",
    "dimensions"
   ]
  },
  {
   "cell_type": "code",
   "execution_count": 4,
   "metadata": {},
   "outputs": [
    {
     "data": {
      "text/plain": [
       "'SCMYXA'"
      ]
     },
     "execution_count": 4,
     "metadata": {},
     "output_type": "execute_result"
    }
   ],
   "source": [
    "czi.dims  # BSCZYX"
   ]
  },
  {
   "cell_type": "code",
   "execution_count": 5,
   "metadata": {},
   "outputs": [
    {
     "data": {
      "text/plain": [
       "(1, 1, 124, 1200, 1600, 3)"
      ]
     },
     "execution_count": 5,
     "metadata": {},
     "output_type": "execute_result"
    }
   ],
   "source": [
    "czi.size  # (1, 40, 4, 60, 1300, 1900)"
   ]
  },
  {
   "cell_type": "code",
   "execution_count": 5,
   "metadata": {},
   "outputs": [
    {
     "ename": "IndexError",
     "evalue": "cannot do a non-empty take from an empty axes.",
     "output_type": "error",
     "traceback": [
      "\u001b[0;31m---------------------------------------------------------------------------\u001b[0m",
      "\u001b[0;31mIndexError\u001b[0m                                Traceback (most recent call last)",
      "Cell \u001b[0;32mIn[5], line 25\u001b[0m\n\u001b[1;32m     21\u001b[0m     \u001b[39mreturn\u001b[39;00m im\n\u001b[1;32m     24\u001b[0m \u001b[39m# normalize, combine into RGB and transform to CMY\u001b[39;00m\n\u001b[0;32m---> 25\u001b[0m c1 \u001b[39m=\u001b[39m (norm_by(img[\u001b[39m0\u001b[39;49m, \u001b[39m0\u001b[39;49m, \u001b[39m0\u001b[39;49m, \u001b[39m0\u001b[39;49m, \u001b[39m0\u001b[39;49m:\u001b[39m750\u001b[39;49m, \u001b[39m250\u001b[39;49m:\u001b[39m1000\u001b[39;49m], \u001b[39m50\u001b[39;49m, \u001b[39m99.8\u001b[39;49m) \u001b[39m*\u001b[39m \u001b[39m255\u001b[39m)\u001b[39m.\u001b[39mastype(np\u001b[39m.\u001b[39muint8)\n\u001b[1;32m     26\u001b[0m c2 \u001b[39m=\u001b[39m (norm_by(img[\u001b[39m0\u001b[39m, \u001b[39m0\u001b[39m, \u001b[39m1\u001b[39m, \u001b[39m0\u001b[39m, \u001b[39m0\u001b[39m:\u001b[39m750\u001b[39m, \u001b[39m250\u001b[39m:\u001b[39m1000\u001b[39m], \u001b[39m50\u001b[39m, \u001b[39m99.8\u001b[39m) \u001b[39m*\u001b[39m \u001b[39m255\u001b[39m)\u001b[39m.\u001b[39mastype(np\u001b[39m.\u001b[39muint8)\n\u001b[1;32m     27\u001b[0m c3 \u001b[39m=\u001b[39m (norm_by(img[\u001b[39m0\u001b[39m, \u001b[39m0\u001b[39m, \u001b[39m2\u001b[39m, \u001b[39m0\u001b[39m, \u001b[39m0\u001b[39m:\u001b[39m750\u001b[39m, \u001b[39m250\u001b[39m:\u001b[39m1000\u001b[39m], \u001b[39m0\u001b[39m, \u001b[39m100\u001b[39m) \u001b[39m*\u001b[39m \u001b[39m255\u001b[39m)\u001b[39m.\u001b[39mastype(np\u001b[39m.\u001b[39muint8)\n",
      "Cell \u001b[0;32mIn[5], line 9\u001b[0m, in \u001b[0;36mnorm_by\u001b[0;34m(x, min_, max_)\u001b[0m\n\u001b[1;32m      8\u001b[0m \u001b[39mdef\u001b[39;00m \u001b[39mnorm_by\u001b[39m(x, min_, max_):\n\u001b[0;32m----> 9\u001b[0m     norms \u001b[39m=\u001b[39m np\u001b[39m.\u001b[39;49mpercentile(x, [min_, max_])\n\u001b[1;32m     10\u001b[0m     i2 \u001b[39m=\u001b[39m np\u001b[39m.\u001b[39mclip((x \u001b[39m-\u001b[39m norms[\u001b[39m0\u001b[39m]) \u001b[39m/\u001b[39m (norms[\u001b[39m1\u001b[39m] \u001b[39m-\u001b[39m norms[\u001b[39m0\u001b[39m]), \u001b[39m0\u001b[39m, \u001b[39m1\u001b[39m)\n\u001b[1;32m     11\u001b[0m     \u001b[39mreturn\u001b[39;00m i2\n",
      "File \u001b[0;32m<__array_function__ internals>:180\u001b[0m, in \u001b[0;36mpercentile\u001b[0;34m(*args, **kwargs)\u001b[0m\n",
      "File \u001b[0;32m~/opt/anaconda3/envs/PythonData/lib/python3.9/site-packages/numpy/lib/function_base.py:4166\u001b[0m, in \u001b[0;36mpercentile\u001b[0;34m(a, q, axis, out, overwrite_input, method, keepdims, interpolation)\u001b[0m\n\u001b[1;32m   4164\u001b[0m \u001b[39mif\u001b[39;00m \u001b[39mnot\u001b[39;00m _quantile_is_valid(q):\n\u001b[1;32m   4165\u001b[0m     \u001b[39mraise\u001b[39;00m \u001b[39mValueError\u001b[39;00m(\u001b[39m\"\u001b[39m\u001b[39mPercentiles must be in the range [0, 100]\u001b[39m\u001b[39m\"\u001b[39m)\n\u001b[0;32m-> 4166\u001b[0m \u001b[39mreturn\u001b[39;00m _quantile_unchecked(\n\u001b[1;32m   4167\u001b[0m     a, q, axis, out, overwrite_input, method, keepdims)\n",
      "File \u001b[0;32m~/opt/anaconda3/envs/PythonData/lib/python3.9/site-packages/numpy/lib/function_base.py:4424\u001b[0m, in \u001b[0;36m_quantile_unchecked\u001b[0;34m(a, q, axis, out, overwrite_input, method, keepdims)\u001b[0m\n\u001b[1;32m   4416\u001b[0m \u001b[39mdef\u001b[39;00m \u001b[39m_quantile_unchecked\u001b[39m(a,\n\u001b[1;32m   4417\u001b[0m                         q,\n\u001b[1;32m   4418\u001b[0m                         axis\u001b[39m=\u001b[39m\u001b[39mNone\u001b[39;00m,\n\u001b[0;32m   (...)\u001b[0m\n\u001b[1;32m   4421\u001b[0m                         method\u001b[39m=\u001b[39m\u001b[39m\"\u001b[39m\u001b[39mlinear\u001b[39m\u001b[39m\"\u001b[39m,\n\u001b[1;32m   4422\u001b[0m                         keepdims\u001b[39m=\u001b[39m\u001b[39mFalse\u001b[39;00m):\n\u001b[1;32m   4423\u001b[0m     \u001b[39m\"\"\"Assumes that q is in [0, 1], and is an ndarray\"\"\"\u001b[39;00m\n\u001b[0;32m-> 4424\u001b[0m     r, k \u001b[39m=\u001b[39m _ureduce(a,\n\u001b[1;32m   4425\u001b[0m                     func\u001b[39m=\u001b[39;49m_quantile_ureduce_func,\n\u001b[1;32m   4426\u001b[0m                     q\u001b[39m=\u001b[39;49mq,\n\u001b[1;32m   4427\u001b[0m                     axis\u001b[39m=\u001b[39;49maxis,\n\u001b[1;32m   4428\u001b[0m                     out\u001b[39m=\u001b[39;49mout,\n\u001b[1;32m   4429\u001b[0m                     overwrite_input\u001b[39m=\u001b[39;49moverwrite_input,\n\u001b[1;32m   4430\u001b[0m                     method\u001b[39m=\u001b[39;49mmethod)\n\u001b[1;32m   4431\u001b[0m     \u001b[39mif\u001b[39;00m keepdims:\n\u001b[1;32m   4432\u001b[0m         \u001b[39mreturn\u001b[39;00m r\u001b[39m.\u001b[39mreshape(q\u001b[39m.\u001b[39mshape \u001b[39m+\u001b[39m k)\n",
      "File \u001b[0;32m~/opt/anaconda3/envs/PythonData/lib/python3.9/site-packages/numpy/lib/function_base.py:3725\u001b[0m, in \u001b[0;36m_ureduce\u001b[0;34m(a, func, **kwargs)\u001b[0m\n\u001b[1;32m   3722\u001b[0m \u001b[39melse\u001b[39;00m:\n\u001b[1;32m   3723\u001b[0m     keepdim \u001b[39m=\u001b[39m (\u001b[39m1\u001b[39m,) \u001b[39m*\u001b[39m a\u001b[39m.\u001b[39mndim\n\u001b[0;32m-> 3725\u001b[0m r \u001b[39m=\u001b[39m func(a, \u001b[39m*\u001b[39;49m\u001b[39m*\u001b[39;49mkwargs)\n\u001b[1;32m   3726\u001b[0m \u001b[39mreturn\u001b[39;00m r, keepdim\n",
      "File \u001b[0;32m~/opt/anaconda3/envs/PythonData/lib/python3.9/site-packages/numpy/lib/function_base.py:4593\u001b[0m, in \u001b[0;36m_quantile_ureduce_func\u001b[0;34m(a, q, axis, out, overwrite_input, method)\u001b[0m\n\u001b[1;32m   4591\u001b[0m     \u001b[39melse\u001b[39;00m:\n\u001b[1;32m   4592\u001b[0m         arr \u001b[39m=\u001b[39m a\u001b[39m.\u001b[39mcopy()\n\u001b[0;32m-> 4593\u001b[0m result \u001b[39m=\u001b[39m _quantile(arr,\n\u001b[1;32m   4594\u001b[0m                    quantiles\u001b[39m=\u001b[39;49mq,\n\u001b[1;32m   4595\u001b[0m                    axis\u001b[39m=\u001b[39;49maxis,\n\u001b[1;32m   4596\u001b[0m                    method\u001b[39m=\u001b[39;49mmethod,\n\u001b[1;32m   4597\u001b[0m                    out\u001b[39m=\u001b[39;49mout)\n\u001b[1;32m   4598\u001b[0m \u001b[39mreturn\u001b[39;00m result\n",
      "File \u001b[0;32m~/opt/anaconda3/envs/PythonData/lib/python3.9/site-packages/numpy/lib/function_base.py:4704\u001b[0m, in \u001b[0;36m_quantile\u001b[0;34m(arr, quantiles, axis, method, out)\u001b[0m\n\u001b[1;32m   4702\u001b[0m     slices_having_nans \u001b[39m=\u001b[39m \u001b[39mNone\u001b[39;00m\n\u001b[1;32m   4703\u001b[0m \u001b[39m# --- Get values from indexes\u001b[39;00m\n\u001b[0;32m-> 4704\u001b[0m previous \u001b[39m=\u001b[39m np\u001b[39m.\u001b[39;49mtake(arr, previous_indexes, axis\u001b[39m=\u001b[39;49mDATA_AXIS)\n\u001b[1;32m   4705\u001b[0m \u001b[39mnext\u001b[39m \u001b[39m=\u001b[39m np\u001b[39m.\u001b[39mtake(arr, next_indexes, axis\u001b[39m=\u001b[39mDATA_AXIS)\n\u001b[1;32m   4706\u001b[0m \u001b[39m# --- Linear interpolation\u001b[39;00m\n",
      "File \u001b[0;32m<__array_function__ internals>:180\u001b[0m, in \u001b[0;36mtake\u001b[0;34m(*args, **kwargs)\u001b[0m\n",
      "File \u001b[0;32m~/opt/anaconda3/envs/PythonData/lib/python3.9/site-packages/numpy/core/fromnumeric.py:190\u001b[0m, in \u001b[0;36mtake\u001b[0;34m(a, indices, axis, out, mode)\u001b[0m\n\u001b[1;32m     93\u001b[0m \u001b[39m@array_function_dispatch\u001b[39m(_take_dispatcher)\n\u001b[1;32m     94\u001b[0m \u001b[39mdef\u001b[39;00m \u001b[39mtake\u001b[39m(a, indices, axis\u001b[39m=\u001b[39m\u001b[39mNone\u001b[39;00m, out\u001b[39m=\u001b[39m\u001b[39mNone\u001b[39;00m, mode\u001b[39m=\u001b[39m\u001b[39m'\u001b[39m\u001b[39mraise\u001b[39m\u001b[39m'\u001b[39m):\n\u001b[1;32m     95\u001b[0m     \u001b[39m\"\"\"\u001b[39;00m\n\u001b[1;32m     96\u001b[0m \u001b[39m    Take elements from an array along an axis.\u001b[39;00m\n\u001b[1;32m     97\u001b[0m \n\u001b[0;32m   (...)\u001b[0m\n\u001b[1;32m    188\u001b[0m \u001b[39m           [5, 7]])\u001b[39;00m\n\u001b[1;32m    189\u001b[0m \u001b[39m    \"\"\"\u001b[39;00m\n\u001b[0;32m--> 190\u001b[0m     \u001b[39mreturn\u001b[39;00m _wrapfunc(a, \u001b[39m'\u001b[39;49m\u001b[39mtake\u001b[39;49m\u001b[39m'\u001b[39;49m, indices, axis\u001b[39m=\u001b[39;49maxis, out\u001b[39m=\u001b[39;49mout, mode\u001b[39m=\u001b[39;49mmode)\n",
      "File \u001b[0;32m~/opt/anaconda3/envs/PythonData/lib/python3.9/site-packages/numpy/core/fromnumeric.py:57\u001b[0m, in \u001b[0;36m_wrapfunc\u001b[0;34m(obj, method, *args, **kwds)\u001b[0m\n\u001b[1;32m     54\u001b[0m     \u001b[39mreturn\u001b[39;00m _wrapit(obj, method, \u001b[39m*\u001b[39margs, \u001b[39m*\u001b[39m\u001b[39m*\u001b[39mkwds)\n\u001b[1;32m     56\u001b[0m \u001b[39mtry\u001b[39;00m:\n\u001b[0;32m---> 57\u001b[0m     \u001b[39mreturn\u001b[39;00m bound(\u001b[39m*\u001b[39;49margs, \u001b[39m*\u001b[39;49m\u001b[39m*\u001b[39;49mkwds)\n\u001b[1;32m     58\u001b[0m \u001b[39mexcept\u001b[39;00m \u001b[39mTypeError\u001b[39;00m:\n\u001b[1;32m     59\u001b[0m     \u001b[39m# A TypeError occurs if the object does have such a method in its\u001b[39;00m\n\u001b[1;32m     60\u001b[0m     \u001b[39m# class, but its signature is not identical to that of NumPy's. This\u001b[39;00m\n\u001b[0;32m   (...)\u001b[0m\n\u001b[1;32m     64\u001b[0m     \u001b[39m# Call _wrapit from within the except clause to ensure a potential\u001b[39;00m\n\u001b[1;32m     65\u001b[0m     \u001b[39m# exception has a traceback chain.\u001b[39;00m\n\u001b[1;32m     66\u001b[0m     \u001b[39mreturn\u001b[39;00m _wrapit(obj, method, \u001b[39m*\u001b[39margs, \u001b[39m*\u001b[39m\u001b[39m*\u001b[39mkwds)\n",
      "\u001b[0;31mIndexError\u001b[0m: cannot do a non-empty take from an empty axes."
     ]
    }
   ],
   "source": [
    "# Load the image slice I want from the file\n",
    "img, shp = czi.read_image(M=10, X=100)\n",
    "\n",
    "# shp = [('B', 1), ('S', 1), ('C', 4), ('Z', 1), ('Y', 1300), ('X', 1900)]  # List[(Dimension, size), ...]\n",
    "# img.shape = (1, 1, 4, 1, 1300, 1900)   # numpy.ndarray\n",
    "\n",
    "# define helper functions\n",
    "def norm_by(x, min_, max_):\n",
    "    norms = np.percentile(x, [min_, max_])\n",
    "    i2 = np.clip((x - norms[0]) / (norms[1] - norms[0]), 0, 1)\n",
    "    return i2\n",
    "\n",
    "\n",
    "def recolor(im):  # transform from rgb to cyan-magenta-yellow\n",
    "    im_shape = np.array(im.shape)\n",
    "    color_transform = np.array([[1, 1, 0], [0, 1, 1], [1, 0, 1]]).T\n",
    "    im_reshape = im.reshape([np.prod(im_shape[0:2]), im_shape[2]]).T\n",
    "    im_recolored = np.matmul(color_transform.T, im_reshape).T\n",
    "    im_shape[2] = 3\n",
    "    im = im_recolored.reshape(im_shape)\n",
    "    return im\n",
    "\n",
    "\n",
    "# normalize, combine into RGB and transform to CMY\n",
    "c1 = (norm_by(img[0, 0, 0, 0, 0:750, 250:1000], 50, 99.8) * 255).astype(np.uint8)\n",
    "c2 = (norm_by(img[0, 0, 1, 0, 0:750, 250:1000], 50, 99.8) * 255).astype(np.uint8)\n",
    "c3 = (norm_by(img[0, 0, 2, 0, 0:750, 250:1000], 0, 100) * 255).astype(np.uint8)\n",
    "rgb = np.stack((c1, c2, c3), axis=2)\n",
    "cmy = np.clip(recolor(rgb), 0, 255)\n",
    "\n",
    "# plot using matplotlib¶\n",
    "plt.figure(figsize=(10, 10))\n",
    "plt.imshow(cmy)\n",
    "plt.axis('off')\n"
   ]
  },
  {
   "cell_type": "code",
   "execution_count": 6,
   "metadata": {},
   "outputs": [],
   "source": [
    "for i in range(1600):\n",
    "    for j in range(124):\n",
    "\n",
    "        try:\n",
    "            # Load the image slice I want from the file\n",
    "            img, shp = czi.read_image(X=i, M=j)\n",
    "\n",
    "            # shp = [('B', 1), ('S', 1), ('C', 4), ('Z', 1), ('Y', 1300), ('X', 1900)]  # List[(Dimension, size), ...]\n",
    "            # img.shape = (1, 1, 4, 1, 1300, 1900)   # numpy.ndarray\n",
    "\n",
    "            # define helper functions\n",
    "            def norm_by(x, min_, max_):\n",
    "                norms = np.percentile(x, [min_, max_])\n",
    "                i2 = np.clip((x - norms[0]) / (norms[1] - norms[0]), 0, 1)\n",
    "                return i2\n",
    "\n",
    "\n",
    "            def recolor(im):  # transform from rgb to cyan-magenta-yellow\n",
    "                im_shape = np.array(im.shape)\n",
    "                color_transform = np.array([[1, 1, 0], [0, 1, 1], [1, 0, 1]]).T\n",
    "                im_reshape = im.reshape([np.prod(im_shape[0:2]), im_shape[2]]).T\n",
    "                im_recolored = np.matmul(color_transform.T, im_reshape).T\n",
    "                im_shape[2] = 3\n",
    "                im = im_recolored.reshape(im_shape)\n",
    "                return im\n",
    "\n",
    "\n",
    "            # normalize, combine into RGB and transform to CMY\n",
    "            c1 = (norm_by(img[0, 0, 0, 0, 0:750, 250:1000], 50, 99.8) * 255).astype(np.uint8)\n",
    "            c2 = (norm_by(img[0, 0, 1, 0, 0:750, 250:1000], 50, 99.8) * 255).astype(np.uint8)\n",
    "            c3 = (norm_by(img[0, 0, 2, 0, 0:750, 250:1000], 0, 100) * 255).astype(np.uint8)\n",
    "            rgb = np.stack((c1, c2, c3), axis=2)\n",
    "            cmy = np.clip(recolor(rgb), 0, 255)\n",
    "\n",
    "            # plot using matplotlib¶\n",
    "            plt.figure(figsize=(10, 10))\n",
    "            plt.imshow(cmy)\n",
    "            plt.axis('off')\n",
    "            print(f\"{i},{j} work\")\n",
    "\n",
    "        except:\n",
    "            next\n"
   ]
  },
  {
   "cell_type": "code",
   "execution_count": 1,
   "metadata": {},
   "outputs": [
    {
     "ename": "NameError",
     "evalue": "name 'norm_by' is not defined",
     "output_type": "error",
     "traceback": [
      "\u001b[0;31m---------------------------------------------------------------------------\u001b[0m",
      "\u001b[0;31mNameError\u001b[0m                                 Traceback (most recent call last)",
      "Cell \u001b[0;32mIn[1], line 23\u001b[0m\n\u001b[1;32m     20\u001b[0m mosaic_data\u001b[39m.\u001b[39mshape  \u001b[39m# (1, 1, 624, 1756)\u001b[39;00m\n\u001b[1;32m     21\u001b[0m \u001b[39m# the C channel has been specified S & M are used internally for position so this is (T, Z, Y, X)\u001b[39;00m\n\u001b[0;32m---> 23\u001b[0m normed_mosaic_data \u001b[39m=\u001b[39m norm_by(mosaic_data[\u001b[39m0\u001b[39m, \u001b[39m0\u001b[39m, :, :], \u001b[39m5\u001b[39m, \u001b[39m98\u001b[39m) \u001b[39m*\u001b[39m \u001b[39m255\u001b[39m\n\u001b[1;32m     24\u001b[0m img \u001b[39m=\u001b[39m Image\u001b[39m.\u001b[39mfromarray(normed_mosaic_data\u001b[39m.\u001b[39mastype(np\u001b[39m.\u001b[39muint8))\n",
      "\u001b[0;31mNameError\u001b[0m: name 'norm_by' is not defined"
     ]
    }
   ],
   "source": [
    "import numpy as np\n",
    "import aicspylibczi\n",
    "import pathlib\n",
    "from PIL import Image\n",
    "\n",
    "mosaic_file = pathlib.Path('czi_files/2023_03_02__0005.czi')\n",
    "czi = aicspylibczi.CziFile(mosaic_file)\n",
    "\n",
    "# Get the shape of the data\n",
    "dimensions = czi.dims  # 'STCZMYX'\n",
    "\n",
    "czi.size  # (1, 1, 1, 1, 2, 624, 924)\n",
    "\n",
    "czi.get_dims_shape()  # [{'X': (0, 924), 'Y': (0, 624), 'Z': (0, 1), 'C': (0, 1), 'T': (0, 1), 'M': (0, 2), 'S': (0, 1)}]\n",
    "\n",
    "czi.is_mosaic()  # True\n",
    "# Mosaic files ignore the S dimension and use an internal mIndex to reconstruct, the scale factor allows one to generate a manageable image\n",
    "mosaic_data = czi.read_mosaic(C=0, scale_factor=1)\n",
    "\n",
    "mosaic_data.shape  # (1, 1, 624, 1756)\n",
    "# the C channel has been specified S & M are used internally for position so this is (T, Z, Y, X)\n",
    "\n",
    "normed_mosaic_data = norm_by(mosaic_data[0, 0, :, :], 5, 98) * 255\n",
    "img = Image.fromarray(normed_mosaic_data.astype(np.uint8))"
   ]
  }
 ],
 "metadata": {
  "kernelspec": {
   "display_name": "PythonData",
   "language": "python",
   "name": "python3"
  },
  "language_info": {
   "codemirror_mode": {
    "name": "ipython",
    "version": 3
   },
   "file_extension": ".py",
   "mimetype": "text/x-python",
   "name": "python",
   "nbconvert_exporter": "python",
   "pygments_lexer": "ipython3",
   "version": "3.9.16"
  },
  "orig_nbformat": 4
 },
 "nbformat": 4,
 "nbformat_minor": 2
}
