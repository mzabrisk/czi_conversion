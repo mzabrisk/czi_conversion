{
 "cells": [
  {
   "cell_type": "code",
   "execution_count": 3,
   "metadata": {},
   "outputs": [
    {
     "name": "stderr",
     "output_type": "stream",
     "text": [
      "Converting files:  83%|████████▎ | 5/6 [00:00<00:00, 23.51it/s]"
     ]
    },
    {
     "name": "stdout",
     "output_type": "stream",
     "text": [
      "A TIFF file already exists for 2023_03_02__0002.czi\n",
      "A JPG file already exists for 2023_03_02__0002.czi\n",
      "A TIFF file already exists for 2023_03_02__0005.czi\n",
      "A JPG file already exists for 2023_03_02__0005.czi\n",
      "2022_05_23__6442_2_pt1.czi\n",
      "File 2022_05_23__6442_2_pt1.czi raised an error during processing: std::bad_alloc. Continuing with next file.\n",
      "2022_05_23__6442_2_pt2.czi\n",
      "File 2022_05_23__6442_2_pt2.czi raised an error during processing: std::bad_alloc. Continuing with next file.\n",
      "2022_05_23__6442.czi\n",
      "File 2022_05_23__6442.czi raised an error during processing: std::bad_alloc. Continuing with next file.\n"
     ]
    },
    {
     "name": "stderr",
     "output_type": "stream",
     "text": [
      "Converting files: 100%|██████████| 6/6 [00:00<00:00, 26.84it/s]"
     ]
    },
    {
     "name": "stdout",
     "output_type": "stream",
     "text": [
      "A TIFF file already exists for 2022_10_31_1673.czi\n",
      "A JPG file already exists for 2022_10_31_1673.czi\n",
      "All CZI files have been converted to TIFF.\n",
      "All TIFF files have been converted to JPG.\n"
     ]
    },
    {
     "name": "stderr",
     "output_type": "stream",
     "text": [
      "\n"
     ]
    }
   ],
   "source": [
    "import numpy as np\n",
    "import pathlib\n",
    "from PIL import Image\n",
    "from aicspylibczi import CziFile\n",
    "from pathlib import Path\n",
    "import os\n",
    "import tifffile\n",
    "from tqdm import tqdm\n",
    "\n",
    "Image.MAX_IMAGE_PIXELS = None\n",
    "\n",
    "# Path to directory containing the CZI files\n",
    "# czi_dir = '/Users/mattzabriskie/Library/CloudStorage/Box-Box/MattZ_Work/Clinicians_PIs/LubdhaShah_ViolaRieke/cervical_fus_goat_research/Data/Histology/scanned_slides/2023.08.08'\n",
    "czi_dir = '/Users/mattzabriskie/Desktop/czi_conversion/czi_files'\n",
    "\n",
    "# create directory to save tiff files\n",
    "tiff_dir = os.path.join(czi_dir, 'tiff_files')\n",
    "os.makedirs(tiff_dir, exist_ok=True)\n",
    "\n",
    "# create directory to save jpg files\n",
    "jpg_dir = os.path.join(czi_dir, 'jpg_files')\n",
    "os.makedirs(jpg_dir, exist_ok=True)\n",
    "\n",
    "# Get all files in directory ending with '.czi'\n",
    "czi_files = [file for file in os.listdir(czi_dir) if file.endswith('.czi')]\n",
    "\n",
    "# Loop over all files in the directory\n",
    "for filename in tqdm(czi_files, desc=\"Converting files\"):\n",
    "    # Construct the full file path\n",
    "\n",
    "    # check to see if the CZI has already been converted to TIFF\n",
    "    if os.path.isfile(os.path.splitext(os.path.join(tiff_dir, filename))[0] + \".tiff\"):\n",
    "                print(\"A TIFF file already exists for %s\" % filename)\n",
    "\n",
    "    # if no TIFF, create TIFF from CZI\n",
    "    else:\n",
    "        czi_file = os.path.join(czi_dir, filename)\n",
    "        print(filename)\n",
    "\n",
    "        try:\n",
    "            # Try to read the CZI file\n",
    "            czi = CziFile(pathlib.Path(czi_file))\n",
    "\n",
    "            czi_data = czi.read_mosaic(C=0, scale_factor=1)\n",
    "\n",
    "        except Exception as e:\n",
    "            print(f\"File {filename} raised an error during processing: {str(e)}. Continuing with next file.\")        \n",
    "            continue\n",
    "            \n",
    "        # Construct the output file path (change the extension to .tiff)\n",
    "        tiff_file = os.path.join(tiff_dir, os.path.splitext(filename)[0] + '.tiff')\n",
    "        \n",
    "        # Save as a TIFF file\n",
    "        tifffile.imsave(tiff_file, czi_data)\n",
    "\n",
    "    # check to see if the TIFF has already been converted to JPG\n",
    "    if os.path.isfile(os.path.splitext(os.path.join(jpg_dir, filename))[0] + \".jpg\"):\n",
    "                print(\"A JPG file already exists for %s\" % filename)\n",
    "\n",
    "    # if no JPG, create JPG from TIFF\n",
    "    else:\n",
    "        # construct jpeg outfile path\n",
    "        jpg_file = os.path.join(jpg_dir, os.path.splitext(filename)[0] + '.jpg')\n",
    "        try:\n",
    "            im = Image.open(os.path.join(tiff_dir, os.path.splitext(filename)[0] + '.tiff'))\n",
    "            print(\"Generating jpeg for %s\" % filename)\n",
    "            im.thumbnail(im.size)\n",
    "            im.save(jpg_file, \"JPEG\", quality=50)\n",
    "        except Exception as e:\n",
    "                print(e)\n",
    "\n",
    "print(\"All CZI files have been converted to TIFF.\")\n",
    "print(\"All TIFF files have been converted to JPG.\")\n"
   ]
  },
  {
   "cell_type": "code",
   "execution_count": 15,
   "metadata": {},
   "outputs": [
    {
     "name": "stderr",
     "output_type": "stream",
     "text": [
      "Converting files:   0%|          | 0/9 [00:00<?, ?it/s]"
     ]
    },
    {
     "name": "stdout",
     "output_type": "stream",
     "text": [
      "2023_03_02__0002.czi\n"
     ]
    },
    {
     "name": "stderr",
     "output_type": "stream",
     "text": [
      "Converting files:  11%|█         | 1/9 [00:27<03:37, 27.23s/it]"
     ]
    },
    {
     "name": "stdout",
     "output_type": "stream",
     "text": [
      "2023_03_02__0005.czi\n"
     ]
    },
    {
     "name": "stderr",
     "output_type": "stream",
     "text": [
      "Converting files:  33%|███▎      | 3/9 [00:46<01:13, 12.22s/it]"
     ]
    },
    {
     "name": "stdout",
     "output_type": "stream",
     "text": [
      "2022_05_23__6442_2_pt1.czi\n",
      "File 2022_05_23__6442_2_pt1.czi raised an error during processing: std::bad_alloc. Continuing with next file.\n",
      "2023_08_08__0017.czi\n"
     ]
    },
    {
     "name": "stderr",
     "output_type": "stream",
     "text": [
      "Converting files:  44%|████▍     | 4/9 [09:28<17:47, 213.48s/it]"
     ]
    },
    {
     "name": "stdout",
     "output_type": "stream",
     "text": [
      "2022_05_23__6442_2_pt2.czi\n"
     ]
    },
    {
     "name": "stderr",
     "output_type": "stream",
     "text": [
      "Converting files:  56%|█████▌    | 5/9 [09:30<09:08, 137.11s/it]"
     ]
    },
    {
     "ename": "",
     "evalue": "",
     "output_type": "error",
     "traceback": [
      "\u001b[1;31mCannot execute code, session has been disposed. Please try restarting the Kernel."
     ]
    },
    {
     "ename": "",
     "evalue": "",
     "output_type": "error",
     "traceback": [
      "\u001b[1;31mThe Kernel crashed while executing code in the the current cell or a previous cell. Please review the code in the cell(s) to identify a possible cause of the failure. Click <a href='https://aka.ms/vscodeJupyterKernelCrash'>here</a> for more info. View Jupyter <a href='command:jupyter.viewOutput'>log</a> for further details."
     ]
    }
   ],
   "source": [
    "# for converting straight to jpg. works on small files but crashes with large files\n",
    "\n",
    "import numpy as np\n",
    "import pathlib\n",
    "from PIL import Image\n",
    "import matplotlib.image\n",
    "from aicspylibczi import CziFile\n",
    "from pathlib import Path\n",
    "import os\n",
    "import tifffile\n",
    "from tqdm import tqdm\n",
    "import cv2\n",
    "\n",
    "Image.MAX_IMAGE_PIXELS = None\n",
    "\n",
    "# Path to directory containing the CZI files\n",
    "# czi_dir = '/Users/mattzabriskie/Library/CloudStorage/Box-Box/MattZ_Work/Clinicians_PIs/LubdhaShah_ViolaRieke/cervical_fus_goat_research/Data/Histology/scanned_slides/2023.08.08'\n",
    "czi_dir = '/Users/mattzabriskie/Desktop/czi_conversion/czi_files'\n",
    "\n",
    "# create directory to save tiff files\n",
    "tiff_dir = os.path.join(czi_dir, 'tiff_files')\n",
    "os.makedirs(tiff_dir, exist_ok=True)\n",
    "\n",
    "# create directory to save jpg files\n",
    "jpg_dir = os.path.join(czi_dir, 'jpg_files')\n",
    "os.makedirs(jpg_dir, exist_ok=True)\n",
    "\n",
    "# Get all files in directory ending with '.czi'\n",
    "czi_files = [file for file in os.listdir(czi_dir) if file.endswith('.czi')]\n",
    "\n",
    "# Loop over all files in the directory\n",
    "for filename in tqdm(czi_files, desc=\"Converting files\"):\n",
    "    # Construct the full file path\n",
    "\n",
    "    # check to see if the CZI has already been converted to TIFF\n",
    "    if os.path.isfile(os.path.splitext(os.path.join(jpg_dir, filename))[0] + \".jpg\"):\n",
    "                print(\"A TIFF file already exists for %s\" % filename)\n",
    "\n",
    "    # if no TIFF, create TIFF from CZI\n",
    "    else:\n",
    "        czi_file = os.path.join(czi_dir, filename)\n",
    "        print(filename)\n",
    "\n",
    "        try:\n",
    "            # Try to read the CZI file\n",
    "            czi = CziFile(pathlib.Path(czi_file))\n",
    "\n",
    "            czi_data = czi.read_mosaic(C=0, scale_factor=1)\n",
    "\n",
    "        except Exception as e:\n",
    "            print(f\"File {filename} raised an error during processing: {str(e)}. Continuing with next file.\")        \n",
    "            continue\n",
    "            \n",
    "        # Construct the output file path (change the extension to .tiff)\n",
    "        jpg_file = os.path.join(jpg_dir, os.path.splitext(filename)[0] + '_2.jpg')\n",
    "        \n",
    "        # Save as a TIFF file\n",
    "\n",
    "        czi_data_resized = cv2.resize(czi_data[0], None, fx=0.1, fy=0.1)\n",
    "\n",
    "        matplotlib.image.imsave(jpg_file, czi_data_resized)\n",
    "\n",
    "    # # check to see if the TIFF has already been converted to JPG\n",
    "    # if os.path.isfile(os.path.splitext(os.path.join(jpg_dir, filename))[0] + \".jpg\"):\n",
    "    #             print(\"A JPG file already exists for %s\" % filename)\n",
    "\n",
    "    # # if no JPG, create JPG from TIFF\n",
    "    # else:\n",
    "    #     # construct jpeg outfile path\n",
    "    #     jpg_file = os.path.join(jpg_dir, os.path.splitext(filename)[0] + '.jpg')\n",
    "    #     try:\n",
    "    #         im = Image.open(os.path.join(tiff_dir, os.path.splitext(filename)[0] + '.tiff'))\n",
    "    #         print(\"Generating jpeg for %s\" % filename)\n",
    "    #         im.thumbnail(im.size)\n",
    "    #         im.save(jpg_file, \"JPEG\", quality=50)\n",
    "    #     except Exception as e:\n",
    "    #             print(e)\n",
    "\n",
    "print(\"All CZI files have been converted to TIFF.\")\n",
    "print(\"All TIFF files have been converted to JPG.\")\n"
   ]
  },
  {
   "cell_type": "code",
   "execution_count": 10,
   "metadata": {},
   "outputs": [
    {
     "ename": "AttributeError",
     "evalue": "module 'matplotlib' has no attribute 'make_image'",
     "output_type": "error",
     "traceback": [
      "\u001b[0;31m---------------------------------------------------------------------------\u001b[0m",
      "\u001b[0;31mAttributeError\u001b[0m                            Traceback (most recent call last)",
      "Cell \u001b[0;32mIn[10], line 1\u001b[0m\n\u001b[0;32m----> 1\u001b[0m matplotlib\u001b[39m.\u001b[39;49mmake_image(czi_data[\u001b[39m0\u001b[39m], magnification\u001b[39m=\u001b[39m\u001b[39m0.1\u001b[39m)\n",
      "File \u001b[0;32m~/opt/anaconda3/envs/PythonData/lib/python3.9/site-packages/matplotlib/_api/__init__.py:226\u001b[0m, in \u001b[0;36mcaching_module_getattr.<locals>.__getattr__\u001b[0;34m(name)\u001b[0m\n\u001b[1;32m    224\u001b[0m \u001b[39mif\u001b[39;00m name \u001b[39min\u001b[39;00m props:\n\u001b[1;32m    225\u001b[0m     \u001b[39mreturn\u001b[39;00m props[name]\u001b[39m.\u001b[39m\u001b[39m__get__\u001b[39m(instance)\n\u001b[0;32m--> 226\u001b[0m \u001b[39mraise\u001b[39;00m \u001b[39mAttributeError\u001b[39;00m(\n\u001b[1;32m    227\u001b[0m     \u001b[39mf\u001b[39m\u001b[39m\"\u001b[39m\u001b[39mmodule \u001b[39m\u001b[39m{\u001b[39;00m\u001b[39mcls\u001b[39m\u001b[39m.\u001b[39m\u001b[39m__module__\u001b[39m\u001b[39m!r}\u001b[39;00m\u001b[39m has no attribute \u001b[39m\u001b[39m{\u001b[39;00mname\u001b[39m!r}\u001b[39;00m\u001b[39m\"\u001b[39m)\n",
      "\u001b[0;31mAttributeError\u001b[0m: module 'matplotlib' has no attribute 'make_image'"
     ]
    }
   ],
   "source": [
    "matplotlib.make_image(czi_data[0], magnification=0.1)"
   ]
  }
 ],
 "metadata": {
  "kernelspec": {
   "display_name": "PythonData",
   "language": "python",
   "name": "python3"
  },
  "language_info": {
   "codemirror_mode": {
    "name": "ipython",
    "version": 3
   },
   "file_extension": ".py",
   "mimetype": "text/x-python",
   "name": "python",
   "nbconvert_exporter": "python",
   "pygments_lexer": "ipython3",
   "version": "3.9.16"
  },
  "orig_nbformat": 4
 },
 "nbformat": 4,
 "nbformat_minor": 2
}
