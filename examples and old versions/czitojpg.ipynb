{
 "cells": [
  {
   "cell_type": "code",
   "execution_count": 9,
   "metadata": {},
   "outputs": [
    {
     "name": "stderr",
     "output_type": "stream",
     "text": [
      "Converting files: 100%|██████████| 2/2 [00:00<00:00, 265.89it/s]"
     ]
    },
    {
     "name": "stdout",
     "output_type": "stream",
     "text": [
      "2023_03_31__0060.czi\n",
      "File 2023_03_31__0060.czi raised an error during processing: std::bad_alloc. Continuing with next file.\n",
      "2023_03_31__0024.czi\n",
      "File 2023_03_31__0024.czi raised an error during processing: std::bad_alloc. Continuing with next file.\n",
      "All CZI files have been converted to JPG.\n"
     ]
    },
    {
     "name": "stderr",
     "output_type": "stream",
     "text": [
      "\n"
     ]
    }
   ],
   "source": [
    "# for converting straight to jpg. works on small files but crashes with large files\n",
    "\n",
    "import numpy as np\n",
    "import pathlib\n",
    "from PIL import Image\n",
    "import matplotlib.image\n",
    "from aicspylibczi import CziFile\n",
    "from pathlib import Path\n",
    "import os\n",
    "import tifffile\n",
    "from tqdm import tqdm\n",
    "import cv2\n",
    "\n",
    "Image.MAX_IMAGE_PIXELS = None\n",
    "\n",
    "# Path to directory containing the CZI files\n",
    "# czi_dir = '/Users/mattzabriskie/Library/CloudStorage/Box-Box/MattZ_Work/Clinicians_PIs/LubdhaShah_ViolaRieke/cervical_fus_goat_research/Data/Histology/scanned_slides/2023.08.08'\n",
    "czi_dir = '/Users/mzabriskie/Desktop/repos/czi_conversion/czi_files'\n",
    "\n",
    "# # create directory to save tiff files\n",
    "# tiff_dir = os.path.join(czi_dir, 'tiff_files')\n",
    "# os.makedirs(tiff_dir, exist_ok=True)\n",
    "\n",
    "# create directory to save jpg files\n",
    "jpg_dir = os.path.join(czi_dir, 'jpg_files')\n",
    "os.makedirs(jpg_dir, exist_ok=True)\n",
    "\n",
    "# Get all files in directory ending with '.czi'\n",
    "czi_files = [file for file in os.listdir(czi_dir) if file.endswith('.czi')]\n",
    "\n",
    "# Loop over all files in the directory\n",
    "for filename in tqdm(czi_files, desc=\"Converting files\"):\n",
    "    print(filename)\n",
    "\n",
    "    # check to see if the CZI has already been converted to JPG\n",
    "    if os.path.isfile(os.path.splitext(os.path.join(jpg_dir, filename))[0] + \".jpg\"):\n",
    "        print(\"A JPG file already exists for %s\" % filename)\n",
    "\n",
    "    # if no JPG, create JPG from CZI\n",
    "    else:\n",
    "        # Construct the full file path\n",
    "        czi_file = os.path.join(czi_dir, filename)\n",
    "\n",
    "        try:\n",
    "            # Try to read the CZI file\n",
    "            czi = CziFile(pathlib.Path(czi_file))\n",
    "\n",
    "            czi_data = czi.read_mosaic(C=0, scale_factor=1)\n",
    "\n",
    "        except Exception as e:\n",
    "            print(f\"File {filename} raised an error during processing: {str(e)}. Continuing with next file.\")        \n",
    "            continue\n",
    "            \n",
    "        # Construct the output file path (change the extension to .tiff)\n",
    "        jpg_file = os.path.join(jpg_dir, os.path.splitext(filename)[0] + '.jpg')\n",
    "        \n",
    "        # Save as a TIFF file\n",
    "\n",
    "        czi_data_resized = cv2.resize(czi_data[0], None, fx=0.1, fy=0.1)\n",
    "\n",
    "        matplotlib.image.imsave(jpg_file, czi_data_resized)\n",
    "\n",
    "print(\"All CZI files have been converted to JPG.\")\n"
   ]
  },
  {
   "cell_type": "code",
   "execution_count": 10,
   "metadata": {},
   "outputs": [
    {
     "data": {
      "text/plain": [
       "['2023_03_31__0060.czi', '2023_03_31__0024.czi']"
      ]
     },
     "execution_count": 10,
     "metadata": {},
     "output_type": "execute_result"
    }
   ],
   "source": [
    "czi_files"
   ]
  },
  {
   "cell_type": "code",
   "execution_count": 8,
   "metadata": {},
   "outputs": [
    {
     "ename": "NameError",
     "evalue": "name 'czi_data' is not defined",
     "output_type": "error",
     "traceback": [
      "\u001b[0;31m---------------------------------------------------------------------------\u001b[0m",
      "\u001b[0;31mNameError\u001b[0m                                 Traceback (most recent call last)",
      "Cell \u001b[0;32mIn[8], line 1\u001b[0m\n\u001b[0;32m----> 1\u001b[0m \u001b[43mczi_data\u001b[49m[\u001b[38;5;241m0\u001b[39m][\u001b[38;5;241m500\u001b[39m][\u001b[38;5;241m0\u001b[39m]\n",
      "\u001b[0;31mNameError\u001b[0m: name 'czi_data' is not defined"
     ]
    }
   ],
   "source": [
    "czi_data[0][500][0]"
   ]
  },
  {
   "cell_type": "code",
   "execution_count": 44,
   "metadata": {},
   "outputs": [],
   "source": [
    "from aicspylibczi import CziFile\n",
    "import cv2\n",
    "import numpy as np\n",
    "\n",
    "try:\n",
    "    # Open the CZI file\n",
    "    czi = CziFile('/Users/mzabriskie/Desktop/repos/czi_conversion/czi_files/2023_03_31__0024.czi')\n",
    "    # Read the data\n",
    "    czi_data = czi.read_image()\n",
    "\n",
    "    # Extract the image component\n",
    "    image_data = czi_data[0][0][0][39]  # Select slice index 39\n",
    "\n",
    "    # Convert to NumPy array\n",
    "    image_np = np.array(image_data)\n",
    "\n",
    "    # Resize the image to match the original CZI image dimensions\n",
    "    original_height, original_width = 1200, 1600  # Update with original CZI image dimensions\n",
    "    image_resized = cv2.resize(image_np, (original_width, original_height))\n",
    "\n",
    "    # Save the resized image as a JPEG\n",
    "    cv2.imwrite('output.jpg', cv2.cvtColor(image_resized, cv2.COLOR_RGB2BGR))  # Convert RGB to BGR for OpenCV\n",
    "\n",
    "except Exception as e:\n",
    "    print(f\"An error occurred while opening or reading the CZI file: {e}\")\n",
    "    raise e  # Reraise the exception for further investigation\n"
   ]
  },
  {
   "cell_type": "code",
   "execution_count": 36,
   "metadata": {},
   "outputs": [
    {
     "name": "stdout",
     "output_type": "stream",
     "text": [
      "Type of CZI data: <class 'tuple'>\n",
      "Length of CZI data: 2\n",
      "Shape of component 0: (1, 1, 79, 1200, 1600, 3)\n",
      "Information about element 0: ('S', 1)\n",
      "Information about element 1: ('C', 1)\n",
      "Information about element 2: ('M', 79)\n",
      "Information about element 3: ('Y', 1200)\n",
      "Information about element 4: ('X', 1600)\n",
      "Information about element 5: ('A', 3)\n"
     ]
    }
   ],
   "source": [
    "from aicspylibczi import CziFile\n",
    "import numpy as np\n",
    "\n",
    "try:\n",
    "    # Open the CZI file\n",
    "    czi = CziFile('/Users/mzabriskie/Desktop/repos/czi_conversion/czi_files/2023_03_31__0060.czi')\n",
    "    # Read the data\n",
    "    czi_data = czi.read_image()\n",
    "\n",
    "    # Print the type and length of the CZI data\n",
    "    print(\"Type of CZI data:\", type(czi_data))\n",
    "    print(\"Length of CZI data:\", len(czi_data))\n",
    "\n",
    "    # Print the shape of the first component\n",
    "    print(\"Shape of component 0:\", czi_data[0].shape)\n",
    "\n",
    "    # Check if the second component is a list\n",
    "    if isinstance(czi_data[1], list):\n",
    "        # Print information about each element in the list\n",
    "        for i, element in enumerate(czi_data[1]):\n",
    "            print(f\"Information about element {i}:\", element)\n",
    "    else:\n",
    "        # Print the shape of the second component\n",
    "        print(\"Shape of component 1:\", czi_data[1].shape)\n",
    "\n",
    "except Exception as e:\n",
    "    print(f\"An error occurred while opening or reading the CZI file: {e}\")\n",
    "    raise e  # Reraise the exception for further investigation\n"
   ]
  },
  {
   "cell_type": "code",
   "execution_count": 47,
   "metadata": {},
   "outputs": [
    {
     "name": "stdout",
     "output_type": "stream",
     "text": [
      "JPG file exported successfully.\n"
     ]
    }
   ],
   "source": [
    "from aicspylibczi import CziFile\n",
    "import numpy as np\n",
    "import cv2\n",
    "\n",
    "try:\n",
    "    # Open the CZI file\n",
    "    czi = CziFile('/Users/mzabriskie/Desktop/repos/czi_conversion/czi_files/2023_03_31__0060.czi')\n",
    "    # Read the data\n",
    "    czi_data = czi.read_image()\n",
    "\n",
    "    # Extract the image data from the first component\n",
    "    image_data = czi_data[0]\n",
    "\n",
    "    # Extract the dimensions and channels information from the second component\n",
    "    dimensions_info = {}\n",
    "    for element in czi_data[1]:\n",
    "        dimensions_info[element[0]] = element[1]\n",
    "\n",
    "    # Reshape the image data according to the dimensions information\n",
    "    reshaped_image_data = np.reshape(image_data, tuple(dimensions_info[dim] for dim in ['S', 'M', 'Y', 'X', 'A']))\n",
    "\n",
    "    # Optionally, extract specific channels if needed\n",
    "    # For example, to extract the first channel:\n",
    "    first_channel = reshaped_image_data[..., 0]\n",
    "\n",
    "    # Save the processed image data as a JPG file\n",
    "    cv2.imwrite('output2.jpg', image_data)\n",
    "\n",
    "    print(\"JPG file exported successfully.\")\n",
    "\n",
    "except Exception as e:\n",
    "    print(f\"An error occurred while processing the CZI file: {e}\")\n"
   ]
  }
 ],
 "metadata": {
  "kernelspec": {
   "display_name": "PythonData",
   "language": "python",
   "name": "python3"
  },
  "language_info": {
   "codemirror_mode": {
    "name": "ipython",
    "version": 3
   },
   "file_extension": ".py",
   "mimetype": "text/x-python",
   "name": "python",
   "nbconvert_exporter": "python",
   "pygments_lexer": "ipython3",
   "version": "3.9.19"
  },
  "orig_nbformat": 4
 },
 "nbformat": 4,
 "nbformat_minor": 2
}
