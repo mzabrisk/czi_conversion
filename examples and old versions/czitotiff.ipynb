{
 "cells": [
  {
   "cell_type": "code",
   "execution_count": 1,
   "metadata": {},
   "outputs": [
    {
     "name": "stderr",
     "output_type": "stream",
     "text": [
      "Converting files:   0%|          | 0/1 [00:00<?, ?it/s]"
     ]
    },
    {
     "name": "stdout",
     "output_type": "stream",
     "text": [
      "2022_10_31_1673.czi\n"
     ]
    },
    {
     "name": "stderr",
     "output_type": "stream",
     "text": [
      "/var/folders/l_/nymzk9_d07q4wpr9pf8wg5ym0000gp/T/ipykernel_15389/3572331510.py:38: DeprecationWarning: <tifffile.imsave> is deprecated. Use tifffile.imwrite\n",
      "  tifffile.imsave(tiff_file, img_data)\n",
      "Converting files: 100%|██████████| 1/1 [00:31<00:00, 31.22s/it]"
     ]
    },
    {
     "name": "stdout",
     "output_type": "stream",
     "text": [
      "All CZI files have been converted to TIFF.\n"
     ]
    },
    {
     "name": "stderr",
     "output_type": "stream",
     "text": [
      "\n"
     ]
    }
   ],
   "source": [
    "import os\n",
    "import czifile\n",
    "import tifffile\n",
    "from tqdm import tqdm\n",
    "\n",
    "# Path to directory containing the CZI files\n",
    "czi_dir = '/Users/mattzabriskie/Desktop/czi_conversion/czi_files'\n",
    "tiff_dir = '/Users/mattzabriskie/Desktop/czi_conversion'\n",
    "\n",
    "# Directory to save the TIFF files\n",
    "# creates subfolder within directory 'TIFF files'\n",
    "tiff_dir = os.path.join(tiff_dir, 'tiff_files')\n",
    "os.makedirs(tiff_dir, exist_ok=True)\n",
    "\n",
    "# Get all files in directory ending with '.czi'\n",
    "czi_files = [file for file in os.listdir(czi_dir) if file.endswith('.czi')]\n",
    "\n",
    "\n",
    "# Loop over all files in the directory\n",
    "for filename in tqdm(czi_files, desc=\"Converting files\"):\n",
    "    # Construct the full file path\n",
    "    czi_file = os.path.join(czi_dir, filename)\n",
    "    print(filename)\n",
    "\n",
    "    try:\n",
    "        # Try to read the CZI file\n",
    "        with czifile.CziFile(czi_file) as czi:\n",
    "            img_data = czi.asarray()\n",
    "\n",
    "    except Exception as e:\n",
    "        print(f\"File {filename} raised an error during processing: {str(e)}. Continuing with next file.\")        \n",
    "        continue\n",
    "        \n",
    "    # Construct the output file path (change the extension to .tiff)\n",
    "    tiff_file = os.path.join(tiff_dir, os.path.splitext(filename)[0] + '.tiff')\n",
    "    \n",
    "    # Save as a TIFF file\n",
    "    tifffile.imsave(tiff_file, img_data)\n",
    "\n",
    "print(\"All CZI files have been converted to TIFF.\")\n"
   ]
  },
  {
   "cell_type": "code",
   "execution_count": 5,
   "metadata": {},
   "outputs": [
    {
     "data": {
      "text/plain": [
       "array([[0, 0, 0],\n",
       "       [0, 0, 0],\n",
       "       [0, 0, 0],\n",
       "       ...,\n",
       "       [0, 0, 0],\n",
       "       [0, 0, 0],\n",
       "       [0, 0, 0]], dtype=uint8)"
      ]
     },
     "execution_count": 5,
     "metadata": {},
     "output_type": "execute_result"
    }
   ],
   "source": [
    "img_data[0][0][0]"
   ]
  },
  {
   "cell_type": "code",
   "execution_count": 6,
   "metadata": {},
   "outputs": [],
   "source": [
    "import matplotlib.image\n",
    "\n",
    "matplotlib.image.imsave('name.jpg', img_data[0][0])"
   ]
  }
 ],
 "metadata": {
  "kernelspec": {
   "display_name": "Python 3",
   "language": "python",
   "name": "python3"
  },
  "language_info": {
   "codemirror_mode": {
    "name": "ipython",
    "version": 3
   },
   "file_extension": ".py",
   "mimetype": "text/x-python",
   "name": "python",
   "nbconvert_exporter": "python",
   "pygments_lexer": "ipython3",
   "version": "3.9.16"
  },
  "orig_nbformat": 4
 },
 "nbformat": 4,
 "nbformat_minor": 2
}
