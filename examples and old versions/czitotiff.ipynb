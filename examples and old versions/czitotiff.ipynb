{
 "cells": [
  {
   "cell_type": "code",
   "execution_count": 13,
   "metadata": {},
   "outputs": [
    {
     "name": "stderr",
     "output_type": "stream",
     "text": [
      "Converting files:   0%|          | 0/2 [00:00<?, ?it/s]"
     ]
    },
    {
     "name": "stdout",
     "output_type": "stream",
     "text": [
      "2023_03_02__0002.czi\n"
     ]
    },
    {
     "name": "stderr",
     "output_type": "stream",
     "text": [
      "/var/folders/l_/nymzk9_d07q4wpr9pf8wg5ym0000gp/T/ipykernel_57506/3572331510.py:38: DeprecationWarning: <tifffile.imsave> is deprecated. Use tifffile.imwrite\n",
      "  tifffile.imsave(tiff_file, img_data)\n",
      "Converting files:  50%|█████     | 1/2 [00:11<00:11, 11.33s/it]"
     ]
    },
    {
     "name": "stdout",
     "output_type": "stream",
     "text": [
      "2023_03_02__0005.czi\n"
     ]
    },
    {
     "name": "stderr",
     "output_type": "stream",
     "text": [
      "Converting files: 100%|██████████| 2/2 [00:22<00:00, 11.20s/it]"
     ]
    },
    {
     "name": "stdout",
     "output_type": "stream",
     "text": [
      "All CZI files have been converted to TIFF.\n"
     ]
    },
    {
     "name": "stderr",
     "output_type": "stream",
     "text": [
      "\n"
     ]
    }
   ],
   "source": [
    "import os\n",
    "import czifile\n",
    "import tifffile\n",
    "from tqdm import tqdm\n",
    "\n",
    "# Path to directory containing the CZI files\n",
    "czi_dir = '/Users/mattzabriskie/Desktop/czi_conversion/czi_files'\n",
    "tiff_dir = '/Users/mattzabriskie/Desktop/czi_conversion'\n",
    "\n",
    "# Directory to save the TIFF files\n",
    "# creates subfolder within directory 'TIFF files'\n",
    "tiff_dir = os.path.join(tiff_dir, 'tiff_files')\n",
    "os.makedirs(tiff_dir, exist_ok=True)\n",
    "\n",
    "# Get all files in directory ending with '.czi'\n",
    "czi_files = [file for file in os.listdir(czi_dir) if file.endswith('.czi')]\n",
    "\n",
    "\n",
    "# Loop over all files in the directory\n",
    "for filename in tqdm(czi_files, desc=\"Converting files\"):\n",
    "    # Construct the full file path\n",
    "    czi_file = os.path.join(czi_dir, filename)\n",
    "    print(filename)\n",
    "\n",
    "    try:\n",
    "        # Try to read the CZI file\n",
    "        with czifile.CziFile(czi_file) as czi:\n",
    "            img_data = czi.asarray()\n",
    "\n",
    "    except Exception as e:\n",
    "        print(f\"File {filename} raised an error during processing: {str(e)}. Continuing with next file.\")        \n",
    "        continue\n",
    "        \n",
    "    # Construct the output file path (change the extension to .tiff)\n",
    "    tiff_file = os.path.join(tiff_dir, os.path.splitext(filename)[0] + '.tiff')\n",
    "    \n",
    "    # Save as a TIFF file\n",
    "    tifffile.imsave(tiff_file, img_data)\n",
    "\n",
    "print(\"All CZI files have been converted to TIFF.\")\n"
   ]
  },
  {
   "cell_type": "code",
   "execution_count": 9,
   "metadata": {},
   "outputs": [
    {
     "ename": "NameError",
     "evalue": "name 'imread' is not defined",
     "output_type": "error",
     "traceback": [
      "\u001b[0;31m---------------------------------------------------------------------------\u001b[0m",
      "\u001b[0;31mNameError\u001b[0m                                 Traceback (most recent call last)",
      "Cell \u001b[0;32mIn[9], line 3\u001b[0m\n\u001b[1;32m      1\u001b[0m file_path \u001b[39m=\u001b[39m \u001b[39m'\u001b[39m\u001b[39m/Users/mattzabriskie/Desktop/czi_conversion/czi_files/2023_03_02__0002.czi\u001b[39m\u001b[39m'\u001b[39m\n\u001b[0;32m----> 3\u001b[0m image \u001b[39m=\u001b[39m imread(file_path)\n\u001b[1;32m      4\u001b[0m image\n",
      "\u001b[0;31mNameError\u001b[0m: name 'imread' is not defined"
     ]
    }
   ],
   "source": [
    "file_path = '/Users/mattzabriskie/Desktop/czi_conversion/czi_files/2023_03_02__0002.czi'\n",
    "\n",
    "image = imread(file_path)\n",
    "image"
   ]
  },
  {
   "cell_type": "code",
   "execution_count": 14,
   "metadata": {},
   "outputs": [
    {
     "name": "stdout",
     "output_type": "stream",
     "text": [
      "18474\n"
     ]
    }
   ],
   "source": [
    "numlist = []\n",
    "\n",
    "for i in range(img_data.shape[2]):\n",
    "    # for j in range(img_data.shape[3]):\n",
    "    #     for k in range(img_data.shape[4]):\n",
    "    numlist.append(czi.asarray()[0][0][9000][8000][0])\n",
    "\n",
    "for num in numlist:\n",
    "    if num != 0:\n",
    "        print('NOT ZERO')\n",
    "    else:\n",
    "        next\n",
    "\n",
    "print(len(numlist))"
   ]
  },
  {
   "cell_type": "code",
   "execution_count": 16,
   "metadata": {},
   "outputs": [
    {
     "data": {
      "text/plain": [
       "(1, 1, 18474, 16002, 3)"
      ]
     },
     "execution_count": 16,
     "metadata": {},
     "output_type": "execute_result"
    }
   ],
   "source": [
    "img_data.shape\n",
    "# print(numlist)"
   ]
  },
  {
   "cell_type": "code",
   "execution_count": 17,
   "metadata": {},
   "outputs": [
    {
     "data": {
      "text/plain": [
       "0"
      ]
     },
     "execution_count": 17,
     "metadata": {},
     "output_type": "execute_result"
    }
   ],
   "source": [
    "czi.asarray()[0][0][0][0][0]"
   ]
  },
  {
   "cell_type": "code",
   "execution_count": 1,
   "metadata": {},
   "outputs": [],
   "source": [
    "collect_ignore = ['_tmp', 'data']\n",
    "\n",
    "\n",
    "def pytest_report_header(config):\n",
    "    try:\n",
    "        import czifile\n",
    "        import imagecodecs\n",
    "        return 'versions: czifile-%s, imagecodecs-%s, numpy-%s' % (\n",
    "            czifile.__version__, imagecodecs.__version__, numpy.__version__)\n",
    "    except Exception:\n",
    "        pass"
   ]
  },
  {
   "cell_type": "code",
   "execution_count": 18,
   "metadata": {},
   "outputs": [
    {
     "name": "stdout",
     "output_type": "stream",
     "text": [
      "\n",
      "Opening CZI file... "
     ]
    },
    {
     "ename": "FileNotFoundError",
     "evalue": "[Errno 2] No such file or directory: '/Users/mattzabriskie/Desktop/czi_conversion/--ip=127.0.0.1'",
     "output_type": "error",
     "traceback": [
      "\u001b[0;31m---------------------------------------------------------------------------\u001b[0m",
      "\u001b[0;31mFileNotFoundError\u001b[0m                         Traceback (most recent call last)",
      "Cell \u001b[0;32mIn[18], line 38\u001b[0m\n\u001b[1;32m     34\u001b[0m         \u001b[39mprint\u001b[39m(\u001b[39m__doc__\u001b[39m)\n\u001b[1;32m     37\u001b[0m \u001b[39mif\u001b[39;00m \u001b[39m__name__\u001b[39m \u001b[39m==\u001b[39m \u001b[39m'\u001b[39m\u001b[39m__main__\u001b[39m\u001b[39m'\u001b[39m:\n\u001b[0;32m---> 38\u001b[0m     sys\u001b[39m.\u001b[39mexit(main())\n",
      "Cell \u001b[0;32mIn[18], line 30\u001b[0m, in \u001b[0;36mmain\u001b[0;34m(argv)\u001b[0m\n\u001b[1;32m     28\u001b[0m     \u001b[39mif\u001b[39;00m truncate:\n\u001b[1;32m     29\u001b[0m         argv\u001b[39m.\u001b[39mremove(\u001b[39m'\u001b[39m\u001b[39m--truncate\u001b[39m\u001b[39m'\u001b[39m)\n\u001b[0;32m---> 30\u001b[0m     czi2tif(argv[\u001b[39m1\u001b[39;49m], argv[\u001b[39m2\u001b[39;49m] \u001b[39mif\u001b[39;49;00m \u001b[39mlen\u001b[39;49m(argv) \u001b[39m>\u001b[39;49m \u001b[39m2\u001b[39;49m \u001b[39melse\u001b[39;49;00m \u001b[39mNone\u001b[39;49;00m,\n\u001b[1;32m     31\u001b[0m             bigtiff\u001b[39m=\u001b[39;49m\u001b[39mTrue\u001b[39;49;00m, truncate\u001b[39m=\u001b[39;49mtruncate)\n\u001b[1;32m     32\u001b[0m \u001b[39melse\u001b[39;00m:\n\u001b[1;32m     33\u001b[0m     \u001b[39mprint\u001b[39m()\n",
      "File \u001b[0;32m~/opt/anaconda3/envs/PythonData/lib/python3.9/site-packages/czifile/czifile.py:1254\u001b[0m, in \u001b[0;36mczi2tif\u001b[0;34m(czifile, tiffile, squeeze, verbose, **kwargs)\u001b[0m\n\u001b[1;32m   1251\u001b[0m verbose(\u001b[39m'\u001b[39m\u001b[39m\\n\u001b[39;00m\u001b[39mOpening CZI file... \u001b[39m\u001b[39m'\u001b[39m, end\u001b[39m=\u001b[39m\u001b[39m'\u001b[39m\u001b[39m'\u001b[39m, flush\u001b[39m=\u001b[39m\u001b[39mTrue\u001b[39;00m)\n\u001b[1;32m   1252\u001b[0m timer \u001b[39m=\u001b[39m Timer()\n\u001b[0;32m-> 1254\u001b[0m \u001b[39mwith\u001b[39;00m CziFile(czifile) \u001b[39mas\u001b[39;00m czi:\n\u001b[1;32m   1255\u001b[0m     \u001b[39mif\u001b[39;00m squeeze:\n\u001b[1;32m   1256\u001b[0m         shape, axes \u001b[39m=\u001b[39m squeeze_axes(czi\u001b[39m.\u001b[39mshape, czi\u001b[39m.\u001b[39maxes, \u001b[39m'\u001b[39m\u001b[39m'\u001b[39m)\n",
      "File \u001b[0;32m~/opt/anaconda3/envs/PythonData/lib/python3.9/site-packages/czifile/czifile.py:263\u001b[0m, in \u001b[0;36mCziFile.__init__\u001b[0;34m(self, arg, multifile, filesize, detectmosaic)\u001b[0m\n\u001b[1;32m    239\u001b[0m \u001b[39mdef\u001b[39;00m \u001b[39m__init__\u001b[39m(\u001b[39mself\u001b[39m, arg, multifile\u001b[39m=\u001b[39m\u001b[39mTrue\u001b[39;00m, filesize\u001b[39m=\u001b[39m\u001b[39mNone\u001b[39;00m, detectmosaic\u001b[39m=\u001b[39m\u001b[39mTrue\u001b[39;00m):\n\u001b[1;32m    240\u001b[0m     \u001b[39m\"\"\"Open CZI file and read header.\u001b[39;00m\n\u001b[1;32m    241\u001b[0m \n\u001b[1;32m    242\u001b[0m \u001b[39m    Raise ValueError if file is not a ZISRAW file.\u001b[39;00m\n\u001b[0;32m   (...)\u001b[0m\n\u001b[1;32m    261\u001b[0m \n\u001b[1;32m    262\u001b[0m \u001b[39m    \"\"\"\u001b[39;00m\n\u001b[0;32m--> 263\u001b[0m     \u001b[39mself\u001b[39m\u001b[39m.\u001b[39m_fh \u001b[39m=\u001b[39m FileHandle(arg, size\u001b[39m=\u001b[39;49mfilesize)\n\u001b[1;32m    264\u001b[0m     \u001b[39mtry\u001b[39;00m:\n\u001b[1;32m    265\u001b[0m         \u001b[39mif\u001b[39;00m \u001b[39mself\u001b[39m\u001b[39m.\u001b[39m_fh\u001b[39m.\u001b[39mread(\u001b[39m10\u001b[39m) \u001b[39m!=\u001b[39m \u001b[39mb\u001b[39m\u001b[39m'\u001b[39m\u001b[39mZISRAWFILE\u001b[39m\u001b[39m'\u001b[39m:\n",
      "File \u001b[0;32m~/opt/anaconda3/envs/PythonData/lib/python3.9/site-packages/tifffile/tifffile.py:14013\u001b[0m, in \u001b[0;36mFileHandle.__init__\u001b[0;34m(self, file, mode, name, offset, size)\u001b[0m\n\u001b[1;32m  14011\u001b[0m \u001b[39mself\u001b[39m\u001b[39m.\u001b[39m_close \u001b[39m=\u001b[39m \u001b[39mTrue\u001b[39;00m\n\u001b[1;32m  14012\u001b[0m \u001b[39mself\u001b[39m\u001b[39m.\u001b[39m_lock \u001b[39m=\u001b[39m NullContext()\n\u001b[0;32m> 14013\u001b[0m \u001b[39mself\u001b[39;49m\u001b[39m.\u001b[39;49mopen()\n\u001b[1;32m  14014\u001b[0m \u001b[39massert\u001b[39;00m \u001b[39mself\u001b[39m\u001b[39m.\u001b[39m_fh \u001b[39mis\u001b[39;00m \u001b[39mnot\u001b[39;00m \u001b[39mNone\u001b[39;00m\n",
      "File \u001b[0;32m~/opt/anaconda3/envs/PythonData/lib/python3.9/site-packages/tifffile/tifffile.py:14028\u001b[0m, in \u001b[0;36mFileHandle.open\u001b[0;34m(self)\u001b[0m\n\u001b[1;32m  14026\u001b[0m \u001b[39mself\u001b[39m\u001b[39m.\u001b[39m_file \u001b[39m=\u001b[39m os\u001b[39m.\u001b[39mpath\u001b[39m.\u001b[39mrealpath(\u001b[39mself\u001b[39m\u001b[39m.\u001b[39m_file)\n\u001b[1;32m  14027\u001b[0m \u001b[39mself\u001b[39m\u001b[39m.\u001b[39m_dir, \u001b[39mself\u001b[39m\u001b[39m.\u001b[39m_name \u001b[39m=\u001b[39m os\u001b[39m.\u001b[39mpath\u001b[39m.\u001b[39msplit(\u001b[39mself\u001b[39m\u001b[39m.\u001b[39m_file)\n\u001b[0;32m> 14028\u001b[0m \u001b[39mself\u001b[39m\u001b[39m.\u001b[39m_fh \u001b[39m=\u001b[39m \u001b[39mopen\u001b[39;49m(\n\u001b[1;32m  14029\u001b[0m     \u001b[39mself\u001b[39;49m\u001b[39m.\u001b[39;49m_file, \u001b[39mself\u001b[39;49m\u001b[39m.\u001b[39;49m_mode, encoding\u001b[39m=\u001b[39;49m\u001b[39mNone\u001b[39;49;00m\n\u001b[1;32m  14030\u001b[0m )  \u001b[39m# type: ignore\u001b[39;00m\n\u001b[1;32m  14031\u001b[0m \u001b[39mself\u001b[39m\u001b[39m.\u001b[39m_close \u001b[39m=\u001b[39m \u001b[39mTrue\u001b[39;00m\n\u001b[1;32m  14032\u001b[0m \u001b[39mself\u001b[39m\u001b[39m.\u001b[39m_offset \u001b[39m=\u001b[39m \u001b[39mmax\u001b[39m(\u001b[39m0\u001b[39m, \u001b[39mself\u001b[39m\u001b[39m.\u001b[39m_offset)\n",
      "\u001b[0;31mFileNotFoundError\u001b[0m: [Errno 2] No such file or directory: '/Users/mattzabriskie/Desktop/czi_conversion/--ip=127.0.0.1'"
     ]
    }
   ],
   "source": [
    "#!/usr/bin/env python3\n",
    "# -*- coding: utf-8 -*-\n",
    "# czi2tif.py\n",
    "\n",
    "\"\"\"Convert CZI file to memory-mappable BigTIFF file.\n",
    "\n",
    "Usage: czi2tif czi_filename [tif_filename]\n",
    "\n",
    "\"\"\"\n",
    "\n",
    "import sys\n",
    "\n",
    "try:\n",
    "    from .czifile import czi2tif\n",
    "except ImportError:\n",
    "    try:\n",
    "        from czifile.czifile import czi2tif\n",
    "    except ImportError:\n",
    "        from czifile import czi2tif\n",
    "\n",
    "\n",
    "def main(argv=None):\n",
    "    \"\"\"Czi2tif command line usage main function.\"\"\"\n",
    "    if argv is None:\n",
    "        argv = sys.argv\n",
    "    if len(argv) > 1:\n",
    "        truncate = '--truncate' in argv\n",
    "        if truncate:\n",
    "            argv.remove('--truncate')\n",
    "        czi2tif(argv[1], argv[2] if len(argv) > 2 else None,\n",
    "                bigtiff=True, truncate=truncate)\n",
    "    else:\n",
    "        print()\n",
    "        print(__doc__)\n",
    "\n",
    "\n",
    "if __name__ == '__main__':\n",
    "    sys.exit(main())"
   ]
  }
 ],
 "metadata": {
  "kernelspec": {
   "display_name": "Python 3",
   "language": "python",
   "name": "python3"
  },
  "language_info": {
   "codemirror_mode": {
    "name": "ipython",
    "version": 3
   },
   "file_extension": ".py",
   "mimetype": "text/x-python",
   "name": "python",
   "nbconvert_exporter": "python",
   "pygments_lexer": "ipython3",
   "version": "3.9.16"
  },
  "orig_nbformat": 4
 },
 "nbformat": 4,
 "nbformat_minor": 2
}
