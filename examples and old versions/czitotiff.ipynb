{
 "cells": [
  {
   "cell_type": "code",
   "execution_count": 22,
   "metadata": {},
   "outputs": [
    {
     "name": "stderr",
     "output_type": "stream",
     "text": [
      "Converting files:   0%|          | 0/5 [00:00<?, ?it/s]"
     ]
    },
    {
     "name": "stdout",
     "output_type": "stream",
     "text": [
      "2023_03_31__0060.czi\n"
     ]
    },
    {
     "name": "stderr",
     "output_type": "stream",
     "text": [
      "/var/folders/ky/zl0049892b138kmk5t49jgjr0000gp/T/ipykernel_82751/2949053955.py:38: DeprecationWarning: <tifffile.imsave> is deprecated. Use tifffile.imwrite\n",
      "  tifffile.imsave(tiff_file, img_data)\n",
      "Converting files:  20%|██        | 1/5 [00:00<00:01,  2.05it/s]"
     ]
    },
    {
     "name": "stdout",
     "output_type": "stream",
     "text": [
      "2023_10_25__0002.czi\n"
     ]
    },
    {
     "name": "stderr",
     "output_type": "stream",
     "text": [
      "Converting files:  40%|████      | 2/5 [00:02<00:04,  1.45s/it]"
     ]
    },
    {
     "name": "stdout",
     "output_type": "stream",
     "text": [
      "2023_10_25__0001.czi\n"
     ]
    },
    {
     "name": "stderr",
     "output_type": "stream",
     "text": [
      "Converting files:  60%|██████    | 3/5 [00:06<00:05,  2.68s/it]"
     ]
    },
    {
     "name": "stdout",
     "output_type": "stream",
     "text": [
      "2023_03_31__0024.czi\n"
     ]
    },
    {
     "name": "stderr",
     "output_type": "stream",
     "text": [
      "Converting files:  80%|████████  | 4/5 [00:07<00:01,  1.78s/it]"
     ]
    },
    {
     "name": "stdout",
     "output_type": "stream",
     "text": [
      "2022_10_31_1671.czi\n"
     ]
    },
    {
     "name": "stderr",
     "output_type": "stream",
     "text": [
      "Converting files: 100%|██████████| 5/5 [00:14<00:00,  2.99s/it]"
     ]
    },
    {
     "name": "stdout",
     "output_type": "stream",
     "text": [
      "All CZI files have been converted to TIFF.\n"
     ]
    },
    {
     "name": "stderr",
     "output_type": "stream",
     "text": [
      "\n"
     ]
    }
   ],
   "source": [
    "import os\n",
    "import czifile\n",
    "import tifffile\n",
    "from tqdm import tqdm\n",
    "\n",
    "# Path to directory containing the CZI files\n",
    "czi_dir = '/Users/mzabriskie/Desktop/repos/czi_conversion/czi_files'\n",
    "tiff_dir = '/Users/mzabriskie/Desktop/repos/czi_conversion'\n",
    "\n",
    "# Directory to save the TIFF files\n",
    "# creates subfolder within directory 'TIFF files'\n",
    "tiff_dir = os.path.join(tiff_dir, 'tiff_files')\n",
    "os.makedirs(tiff_dir, exist_ok=True)\n",
    "\n",
    "# Get all files in directory ending with '.czi'\n",
    "czi_files = [file for file in os.listdir(czi_dir) if file.endswith('.czi')]\n",
    "\n",
    "\n",
    "# Loop over all files in the directory\n",
    "for filename in tqdm(czi_files, desc=\"Converting files\"):\n",
    "    # Construct the full file path\n",
    "    czi_file = os.path.join(czi_dir, filename)\n",
    "    print(filename)\n",
    "\n",
    "    try:\n",
    "        # Try to read the CZI file\n",
    "        with czifile.CziFile(czi_file) as czi:\n",
    "            img_data = czi.asarray()\n",
    "\n",
    "    except Exception as e:\n",
    "        print(f\"File {filename} raised an error during processing: {str(e)}. Continuing with next file.\")        \n",
    "        continue\n",
    "        \n",
    "    # Construct the output file path (change the extension to .tiff)\n",
    "    tiff_file = os.path.join(tiff_dir, os.path.splitext(filename)[0] + '.tiff')\n",
    "    \n",
    "    # Save as a TIFF file\n",
    "    tifffile.imsave(tiff_file, img_data)\n",
    "\n",
    "print(\"All CZI files have been converted to TIFF.\")\n"
   ]
  },
  {
   "cell_type": "code",
   "execution_count": 10,
   "metadata": {},
   "outputs": [
    {
     "name": "stderr",
     "output_type": "stream",
     "text": [
      "Converting files:  20%|██        | 1/5 [00:00<00:01,  2.09it/s]"
     ]
    },
    {
     "name": "stdout",
     "output_type": "stream",
     "text": [
      "File 2023_03_31__0060.czi raised an error during processing: OpenCV(4.9.0) /Users/xperience/GHA-OpenCV-Python2/_work/opencv-python/opencv-python/opencv/modules/imgproc/src/resize.cpp:3789: error: (-215:Assertion failed) !dsize.empty() in function 'resize'\n",
      ". Continuing with next file.\n"
     ]
    },
    {
     "name": "stderr",
     "output_type": "stream",
     "text": [
      "Converting files:  40%|████      | 2/5 [00:01<00:03,  1.08s/it]"
     ]
    },
    {
     "name": "stdout",
     "output_type": "stream",
     "text": [
      "File 2023_10_25__0002.czi raised an error during processing: OpenCV(4.9.0) /Users/xperience/GHA-OpenCV-Python2/_work/opencv-python/opencv-python/opencv/modules/imgproc/src/resize.cpp:3789: error: (-215:Assertion failed) !dsize.empty() in function 'resize'\n",
      ". Continuing with next file.\n"
     ]
    },
    {
     "name": "stderr",
     "output_type": "stream",
     "text": [
      "Converting files:  60%|██████    | 3/5 [00:05<00:04,  2.21s/it]"
     ]
    },
    {
     "name": "stdout",
     "output_type": "stream",
     "text": [
      "File 2023_10_25__0001.czi raised an error during processing: OpenCV(4.9.0) /Users/xperience/GHA-OpenCV-Python2/_work/opencv-python/opencv-python/opencv/modules/imgproc/src/resize.cpp:3789: error: (-215:Assertion failed) !dsize.empty() in function 'resize'\n",
      ". Continuing with next file.\n"
     ]
    },
    {
     "name": "stderr",
     "output_type": "stream",
     "text": [
      "Converting files:  80%|████████  | 4/5 [00:05<00:01,  1.46s/it]"
     ]
    },
    {
     "name": "stdout",
     "output_type": "stream",
     "text": [
      "File 2023_03_31__0024.czi raised an error during processing: OpenCV(4.9.0) /Users/xperience/GHA-OpenCV-Python2/_work/opencv-python/opencv-python/opencv/modules/imgproc/src/resize.cpp:3789: error: (-215:Assertion failed) !dsize.empty() in function 'resize'\n",
      ". Continuing with next file.\n"
     ]
    },
    {
     "name": "stderr",
     "output_type": "stream",
     "text": [
      "Converting files: 100%|██████████| 5/5 [00:12<00:00,  2.41s/it]"
     ]
    },
    {
     "name": "stdout",
     "output_type": "stream",
     "text": [
      "File 2022_10_31_1671.czi raised an error during processing: OpenCV(4.9.0) /Users/xperience/GHA-OpenCV-Python2/_work/opencv-python/opencv-python/opencv/modules/imgproc/src/resize.cpp:3789: error: (-215:Assertion failed) !dsize.empty() in function 'resize'\n",
      ". Continuing with next file.\n",
      "All CZI files have been converted to resized TIFF.\n"
     ]
    },
    {
     "name": "stderr",
     "output_type": "stream",
     "text": [
      "\n"
     ]
    }
   ],
   "source": [
    "import os\n",
    "import czifile\n",
    "import tifffile\n",
    "from tqdm import tqdm\n",
    "\n",
    "# Path to directory containing the CZI files\n",
    "czi_dir = '/Users/mzabriskie/Desktop/repos/czi_conversion/czi_files'\n",
    "tiff_dir = '/Users/mzabriskie/Desktop/repos/czi_conversion'\n",
    "\n",
    "# Directory to save the TIFF files\n",
    "# creates subfolder within directory 'TIFF files'\n",
    "tiff_dir = os.path.join(tiff_dir, 'tiff_files')\n",
    "os.makedirs(tiff_dir, exist_ok=True)\n",
    "\n",
    "# Get all files in directory ending with '.czi'\n",
    "czi_files = [file for file in os.listdir(czi_dir) if file.endswith('.czi')]\n",
    "\n",
    "\n",
    "# Loop over all files in the directory\n",
    "for filename in tqdm(czi_files, desc=\"Converting files\"):\n",
    "    # Construct the full file path\n",
    "    czi_file = os.path.join(czi_dir, filename)\n",
    "    print(filename)\n",
    "\n",
    "    try:\n",
    "        # Try to read the CZI file\n",
    "        with czifile.CziFile(czi_file) as czi:\n",
    "            img_data = czi.asarray()\n",
    "\n",
    "    except Exception as e:\n",
    "        print(f\"File {filename} raised an error during processing: {str(e)}. Continuing with next file.\")        \n",
    "        continue\n",
    "        \n",
    "    # Construct the output file path (change the extension to .tiff)\n",
    "    tiff_file = os.path.join(tiff_dir, os.path.splitext(filename)[0] + '.tiff')\n",
    "    \n",
    "    # Save as a TIFF file\n",
    "    tifffile.imsave(tiff_file, img_data)\n",
    "\n",
    "print(\"All CZI files have been converted to TIFF.\")\n"
   ]
  },
  {
   "cell_type": "code",
   "execution_count": 14,
   "metadata": {},
   "outputs": [
    {
     "name": "stdout",
     "output_type": "stream",
     "text": [
      "Converted 2023_03_31__0060.tiff to JPG format.\n",
      "An error occurred while processing 2023_10_25__0001.tiff: Image size (1501701470 pixels) exceeds limit of 178956970 pixels, could be decompression bomb DOS attack.. Continuing with next file.\n",
      "An error occurred while processing 2022_10_31_1671.tiff: Image size (2804977443 pixels) exceeds limit of 178956970 pixels, could be decompression bomb DOS attack.. Continuing with next file.\n",
      "Converted 2023_03_31__0024.tiff to JPG format.\n",
      "An error occurred while processing 2023_10_25__0002.tiff: Image size (1198966428 pixels) exceeds limit of 178956970 pixels, could be decompression bomb DOS attack.. Continuing with next file.\n",
      "All TIFF files have been converted to JPG.\n"
     ]
    }
   ],
   "source": [
    "from PIL import Image\n",
    "import os\n",
    "\n",
    "# Path to directory containing the TIFF files\n",
    "tiff_dir = '/Users/mzabriskie/Desktop/repos/czi_conversion/tiff_files'\n",
    "\n",
    "# Directory to save the JPG files\n",
    "jpg_dir = '/Users/mzabriskie/Desktop/repos/czi_conversion/tiff_files'\n",
    "os.makedirs(jpg_dir, exist_ok=True)\n",
    "\n",
    "# Get all files in directory ending with '.tiff' or '.tif'\n",
    "tiff_files = [file for file in os.listdir(tiff_dir) if file.endswith(('.tiff', '.tif'))]\n",
    "\n",
    "# Maximum number of pixels allowed\n",
    "max_pixels = 178956970   # Adjust as needed\n",
    "\n",
    "# Loop over all TIFF files in the directory\n",
    "for filename in tiff_files:\n",
    "    # Construct the full file path\n",
    "    tiff_file = os.path.join(tiff_dir, filename)\n",
    "    \n",
    "    try:\n",
    "        # Open the TIFF file\n",
    "        with Image.open(tiff_file) as img:\n",
    "            # Resize the image if it exceeds the maximum number of pixels\n",
    "            if img.width * img.height > max_pixels:\n",
    "                ratio = (max_pixels / (img.width * img.height)) ** 0.5\n",
    "                new_width = int(img.width * ratio)\n",
    "                new_height = int(img.height * ratio)\n",
    "                img = img.resize((new_width, new_height))\n",
    "            \n",
    "            # Construct the output file path (change the extension to .jpg)\n",
    "            jpg_file = os.path.join(jpg_dir, os.path.splitext(filename)[0] + '.jpg')\n",
    "            \n",
    "            # Convert and save as JPG\n",
    "            img.convert('RGB').save(jpg_file, 'JPEG')\n",
    "            print(f\"Converted {filename} to JPG format.\")\n",
    "    \n",
    "    except Exception as e:\n",
    "        print(f\"An error occurred while processing {filename}: {e}. Continuing with next file.\")\n",
    "\n",
    "print(\"All TIFF files have been converted to JPG.\")\n"
   ]
  },
  {
   "cell_type": "code",
   "execution_count": 24,
   "metadata": {},
   "outputs": [],
   "source": [
    "from PIL import Image\n",
    "\n",
    "Image.MAX_IMAGE_PIXELS = None\n",
    "\n",
    "def downsample_image(input_path, output_path, max_width, max_height):\n",
    "    # Open the image\n",
    "    with Image.open(input_path) as img:\n",
    "        # Resize the image while preserving aspect ratio\n",
    "        img.thumbnail((max_width, max_height))\n",
    "        # Save the resized image\n",
    "        img.save(output_path)\n",
    "\n",
    "# Example usage:\n",
    "input_path = '/Users/mzabriskie/Desktop/repos/czi_conversion/tiff_files/2022_10_31_1671.tiff'\n",
    "output_path = '/Users/mzabriskie/Desktop/repos/czi_conversion/tiff_files/2022_10_31_1671.tiff'\n",
    "max_width = 10000  # Maximum width after downsampling\n",
    "max_height = 10000  # Maximum height after downsampling\n",
    "\n",
    "downsample_image(input_path, output_path, max_width, max_height)\n"
   ]
  },
  {
   "cell_type": "code",
   "execution_count": 23,
   "metadata": {},
   "outputs": [
    {
     "name": "stdout",
     "output_type": "stream",
     "text": [
      "Converted 2023_03_31__0060.tiff to JPG format.\n",
      "Converted 2023_10_25__0001.tiff to JPG format.\n"
     ]
    },
    {
     "name": "stderr",
     "output_type": "stream",
     "text": [
      "Maximum supported image dimension is 65500 pixels\n"
     ]
    },
    {
     "name": "stdout",
     "output_type": "stream",
     "text": [
      "An error occurred while processing 2022_10_31_1671.tiff: broken data stream when writing image file. Continuing with next file.\n",
      "Converted 2023_03_31__0024.tiff to JPG format.\n",
      "Converted 2023_10_25__0002.tiff to JPG format.\n",
      "All TIFF files have been converted to JPG.\n"
     ]
    }
   ],
   "source": [
    "from PIL import Image\n",
    "import os\n",
    "\n",
    "Image.MAX_IMAGE_PIXELS = None\n",
    "\n",
    "# Path to directory containing the TIFF files\n",
    "tiff_dir = '/Users/mzabriskie/Desktop/repos/czi_conversion/tiff_files'\n",
    "\n",
    "# Directory to save the JPG files\n",
    "jpg_dir = '/Users/mzabriskie/Desktop/repos/czi_conversion/tiff_files'\n",
    "os.makedirs(jpg_dir, exist_ok=True)\n",
    "\n",
    "# Get all files in directory ending with '.tiff' or '.tif'\n",
    "tiff_files = [file for file in os.listdir(tiff_dir) if file.endswith(('.tiff', '.tif'))]\n",
    "\n",
    "# Loop over all TIFF files in the directory\n",
    "for filename in tiff_files:\n",
    "    # Construct the full file path\n",
    "    tiff_file = os.path.join(tiff_dir, filename)\n",
    "    \n",
    "    try:\n",
    "        # Open the TIFF file\n",
    "        with Image.open(tiff_file) as img:\n",
    "            # Construct the output file path (change the extension to .jpg)\n",
    "            jpg_file = os.path.join(jpg_dir, os.path.splitext(filename)[0] + '.jpg')\n",
    "            \n",
    "            # Convert and save as JPG\n",
    "            img.convert('RGB').save(jpg_file, 'JPEG')\n",
    "            print(f\"Converted {filename} to JPG format.\")\n",
    "    \n",
    "    except Exception as e:\n",
    "        print(f\"An error occurred while processing {filename}: {e}. Continuing with next file.\")\n",
    "\n",
    "print(\"All TIFF files have been converted to JPG.\")\n"
   ]
  },
  {
   "cell_type": "code",
   "execution_count": 36,
   "metadata": {},
   "outputs": [
    {
     "name": "stdout",
     "output_type": "stream",
     "text": [
      "Successfully downsampled 2023_03_31__0060.tiff.\n",
      "Successfully downsampled 2023_10_25__0001.tiff.\n",
      "Successfully downsampled 2022_10_31_1671.tiff.\n",
      "Successfully downsampled 2023_03_31__0024.tiff.\n",
      "Successfully downsampled 2023_10_25__0002.tiff.\n"
     ]
    }
   ],
   "source": [
    "from PIL import Image\n",
    "\n",
    "Image.MAX_IMAGE_PIXELS = None\n",
    "\n",
    "def downsample_image(input_path, output_path, max_width, max_height):\n",
    "    # Open the image\n",
    "    with Image.open(input_path) as img:\n",
    "        # Resize the image while preserving aspect ratio\n",
    "        img.thumbnail((max_width, max_height))\n",
    "        # Save the resized image\n",
    "        img.save(output_path)\n",
    "\n",
    "# Example usage:\n",
    "tiff_dir = '/Users/mzabriskie/Desktop/repos/czi_conversion/tiff_files'\n",
    "max_width = 6000  # Maximum width after downsampling\n",
    "max_height = 6000  # Maximum height after downsampling\n",
    "\n",
    "# Get all files in directory ending with '.tiff' or '.tif'\n",
    "tiff_files = [file for file in os.listdir(tiff_dir) if file.endswith(('.tiff', '.tif'))]\n",
    "# print(tiff_files)\n",
    "\n",
    "# Loop over all TIFF files in the directory\n",
    "for filename in tiff_files:\n",
    "    # Construct the full file path\n",
    "    tiff_file = os.path.join(tiff_dir, filename)\n",
    "    \n",
    "    try:\n",
    "       #downsample and save over original tiff file\n",
    "        downsample_image(tiff_file, tiff_file, max_width, max_height)\n",
    "        print(f\"Successfully downsampled {filename}.\")\n",
    "    \n",
    "    except Exception as e:\n",
    "        print(f\"An error occurred while processing {filename}: {e}. Continuing with next file.\")\n",
    "\n",
    "\n"
   ]
  }
 ],
 "metadata": {
  "kernelspec": {
   "display_name": "Python 3",
   "language": "python",
   "name": "python3"
  },
  "language_info": {
   "codemirror_mode": {
    "name": "ipython",
    "version": 3
   },
   "file_extension": ".py",
   "mimetype": "text/x-python",
   "name": "python",
   "nbconvert_exporter": "python",
   "pygments_lexer": "ipython3",
   "version": "3.9.19"
  },
  "orig_nbformat": 4
 },
 "nbformat": 4,
 "nbformat_minor": 2
}
