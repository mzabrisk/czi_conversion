{
 "cells": [
  {
   "cell_type": "code",
   "execution_count": 9,
   "metadata": {},
   "outputs": [
    {
     "name": "stderr",
     "output_type": "stream",
     "text": [
      "Converting files:   0%|          | 0/17 [00:00<?, ?it/s]/var/folders/ky/zl0049892b138kmk5t49jgjr0000gp/T/ipykernel_91143/1860912039.py:50: DeprecationWarning: <tifffile.imsave> is deprecated. Use tifffile.imwrite\n",
      "  tifffile.imsave(tiff_file, img_data)\n",
      "Converting files:   6%|▌         | 1/17 [00:10<02:54, 10.89s/it]"
     ]
    },
    {
     "name": "stdout",
     "output_type": "stream",
     "text": [
      "Successfully downsampled P21-22CPN_R-1a-2023_10_25__0004.czi.\n"
     ]
    },
    {
     "name": "stderr",
     "output_type": "stream",
     "text": [
      "Converting files:  12%|█▏        | 2/17 [00:28<03:43, 14.89s/it]"
     ]
    },
    {
     "name": "stdout",
     "output_type": "stream",
     "text": [
      "Successfully downsampled P20_L 1 - 2023_03_10__0016.czi.\n"
     ]
    },
    {
     "name": "stderr",
     "output_type": "stream",
     "text": [
      "Converting files:  18%|█▊        | 3/17 [00:45<03:40, 15.75s/it]"
     ]
    },
    {
     "name": "stdout",
     "output_type": "stream",
     "text": [
      "Successfully downsampled P21-22CPN_L-1a-2023_10_25__0003.czi.\n"
     ]
    },
    {
     "name": "stderr",
     "output_type": "stream",
     "text": [
      "Converting files:  24%|██▎       | 4/17 [00:55<02:55, 13.50s/it]"
     ]
    },
    {
     "name": "stdout",
     "output_type": "stream",
     "text": [
      "Successfully downsampled P20_R 1 - 2023_03_10__0022.czi.\n"
     ]
    },
    {
     "name": "stderr",
     "output_type": "stream",
     "text": [
      "Converting files:  29%|██▉       | 5/17 [01:13<03:01, 15.15s/it]"
     ]
    },
    {
     "name": "stdout",
     "output_type": "stream",
     "text": [
      "Successfully downsampled P20-063 L 2 - 2022_10_10_952.czi.\n"
     ]
    },
    {
     "name": "stderr",
     "output_type": "stream",
     "text": [
      "Converting files:  35%|███▌      | 6/17 [01:28<02:47, 15.20s/it]"
     ]
    },
    {
     "name": "stdout",
     "output_type": "stream",
     "text": [
      "Successfully downsampled P20-062 L 2 - 2022_10_31_1674.czi.\n"
     ]
    },
    {
     "name": "stderr",
     "output_type": "stream",
     "text": [
      "Converting files:  41%|████      | 7/17 [01:38<02:12, 13.26s/it]"
     ]
    },
    {
     "name": "stdout",
     "output_type": "stream",
     "text": [
      "Successfully downsampled P20_L_AD 1 - 2023_03_10__0017.czi.\n"
     ]
    },
    {
     "name": "stderr",
     "output_type": "stream",
     "text": [
      "Converting files:  47%|████▋     | 8/17 [02:07<02:45, 18.35s/it]"
     ]
    },
    {
     "name": "stdout",
     "output_type": "stream",
     "text": [
      "Successfully downsampled P20-062 R 2 - 2022_10_31_1672.czi.\n"
     ]
    },
    {
     "name": "stderr",
     "output_type": "stream",
     "text": [
      "Converting files:  53%|█████▎    | 9/17 [02:20<02:12, 16.62s/it]"
     ]
    },
    {
     "name": "stdout",
     "output_type": "stream",
     "text": [
      "Successfully downsampled P21-19CPN_L-1a-2023_10_25__0001.czi.\n"
     ]
    },
    {
     "name": "stderr",
     "output_type": "stream",
     "text": [
      "Converting files:  59%|█████▉    | 10/17 [02:27<01:37, 13.91s/it]"
     ]
    },
    {
     "name": "stdout",
     "output_type": "stream",
     "text": [
      "Successfully downsampled P21-19CPN_R-1a-2023_10_25__0002.czi.\n"
     ]
    },
    {
     "name": "stderr",
     "output_type": "stream",
     "text": [
      "Converting files:  65%|██████▍   | 11/17 [02:43<01:26, 14.38s/it]"
     ]
    },
    {
     "name": "stdout",
     "output_type": "stream",
     "text": [
      "Successfully downsampled P20_L_AP 1 - 2023_03_10__0008.czi.\n"
     ]
    },
    {
     "name": "stderr",
     "output_type": "stream",
     "text": [
      "Converting files:  71%|███████   | 12/17 [03:00<01:15, 15.18s/it]"
     ]
    },
    {
     "name": "stdout",
     "output_type": "stream",
     "text": [
      "Successfully downsampled P20-063 L 1 - 2022_10_10_951.czi.\n"
     ]
    },
    {
     "name": "stderr",
     "output_type": "stream",
     "text": [
      "Converting files:  76%|███████▋  | 13/17 [03:09<00:53, 13.45s/it]"
     ]
    },
    {
     "name": "stdout",
     "output_type": "stream",
     "text": [
      "Successfully downsampled P20_R_A 1 - 2023_03_10__0003.czi.\n"
     ]
    },
    {
     "name": "stderr",
     "output_type": "stream",
     "text": [
      "Converting files:  82%|████████▏ | 14/17 [03:26<00:43, 14.54s/it]"
     ]
    },
    {
     "name": "stdout",
     "output_type": "stream",
     "text": [
      "Successfully downsampled P20-062 L 1 - 2022_10_31_1673.czi.\n"
     ]
    },
    {
     "name": "stderr",
     "output_type": "stream",
     "text": [
      "Converting files:  88%|████████▊ | 15/17 [03:53<00:36, 18.31s/it]"
     ]
    },
    {
     "name": "stdout",
     "output_type": "stream",
     "text": [
      "Successfully downsampled P20-062 R 1 - 2022_10_31_1671.czi.\n"
     ]
    },
    {
     "name": "stderr",
     "output_type": "stream",
     "text": [
      "Converting files:  94%|█████████▍| 16/17 [04:06<00:16, 16.60s/it]"
     ]
    },
    {
     "name": "stdout",
     "output_type": "stream",
     "text": [
      "Successfully downsampled P20-063 R 2 - 2022_10_10_950.czi.\n"
     ]
    },
    {
     "name": "stderr",
     "output_type": "stream",
     "text": [
      "Converting files: 100%|██████████| 17/17 [04:18<00:00, 15.18s/it]"
     ]
    },
    {
     "name": "stdout",
     "output_type": "stream",
     "text": [
      "Successfully downsampled P20-063 R 1 - 2022_10_10_949.czi.\n",
      "All CZI files have been converted to TIFF and downsampled.\n"
     ]
    },
    {
     "name": "stderr",
     "output_type": "stream",
     "text": [
      "\n"
     ]
    }
   ],
   "source": [
    "import os\n",
    "import czifile\n",
    "import tifffile\n",
    "from tqdm import tqdm\n",
    "from PIL import Image\n",
    "\n",
    "Image.MAX_IMAGE_PIXELS = None\n",
    "\n",
    "# Path to directory containing the CZI files\n",
    "czi_dir = 'czi_files'\n",
    "\n",
    "# Directory to save the TIFF files\n",
    "# creates subfolder within directory 'TIFF files'\n",
    "tiff_dir = os.path.join(czi_dir, 'tiff_files')\n",
    "os.makedirs(tiff_dir, exist_ok=True)\n",
    "\n",
    "max_width = 10000  # Maximum width after downsampling\n",
    "max_height = 10000  # Maximum height after downsampling\n",
    "\n",
    "max_file_size = 1000000000\n",
    "\n",
    "# Get all files in directory ending with '.czi'\n",
    "czi_files = [file for file in os.listdir(czi_dir) if file.endswith('.czi')]\n",
    "\n",
    "\n",
    "# Loop over all files in the directory\n",
    "for filename in tqdm(czi_files, desc=\"Converting files\"):\n",
    "    # Construct the full file path\n",
    "    czi_file = os.path.join(czi_dir, filename)\n",
    "\n",
    "    # check to see if file size < 1GB\n",
    "    file_size = os.path.getsize(czi_file)\n",
    "\n",
    "    # if file is small enough, proceed with conversion and downsampling\n",
    "    if file_size < max_file_size:\n",
    "\n",
    "        try:\n",
    "            # Try to read the CZI file\n",
    "            with czifile.CziFile(czi_file) as czi:\n",
    "                img_data = czi.asarray()\n",
    "\n",
    "        except Exception as e:\n",
    "            print(f\"File {filename} raised an error during processing: {str(e)}. Continuing with next file.\")        \n",
    "            continue\n",
    "            \n",
    "        # Construct the output file path (change the extension to .tiff)\n",
    "        tiff_file = os.path.join(tiff_dir, os.path.splitext(filename)[0] + '.tiff')\n",
    "        \n",
    "        # Save as a TIFF file\n",
    "        tifffile.imsave(tiff_file, img_data)\n",
    "\n",
    "        try:\n",
    "        #downsample and save over original tiff file\n",
    "            with Image.open(tiff_file) as img:\n",
    "                # Resize the image while preserving aspect ratio\n",
    "                img.thumbnail((max_width, max_height))\n",
    "                # Save the resized image\n",
    "                img.save(tiff_file)\n",
    "            \n",
    "            print(f\"Successfully downsampled {filename}.\")\n",
    "        \n",
    "        except Exception as e:\n",
    "            print(f\"An error occurred while processing {filename}: {e}. Continuing with next file.\")\n",
    "    \n",
    "    # if file is too large, skip.\n",
    "    else:\n",
    "        print(f\"{filename} exceeds max file size. Skipping.\")\n",
    "\n",
    "print(\"All CZI files have been converted to TIFF and downsampled.\")\n"
   ]
  }
 ],
 "metadata": {
  "kernelspec": {
   "display_name": "PythonData",
   "language": "python",
   "name": "python3"
  },
  "language_info": {
   "codemirror_mode": {
    "name": "ipython",
    "version": 3
   },
   "file_extension": ".py",
   "mimetype": "text/x-python",
   "name": "python",
   "nbconvert_exporter": "python",
   "pygments_lexer": "ipython3",
   "version": "3.9.19"
  }
 },
 "nbformat": 4,
 "nbformat_minor": 2
}
