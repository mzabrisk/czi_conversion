{
 "cells": [
  {
   "cell_type": "code",
   "execution_count": 1,
   "metadata": {},
   "outputs": [
    {
     "name": "stderr",
     "output_type": "stream",
     "text": [
      "Converting files:   0%|          | 0/21 [00:00<?, ?it/s]/var/folders/ky/zl0049892b138kmk5t49jgjr0000gp/T/ipykernel_30108/1849661167.py:49: DeprecationWarning: <tifffile.imsave> is deprecated. Use tifffile.imwrite\n",
      "  tifffile.imsave(tiff_file, img_data)\n",
      "Converting files:   5%|▍         | 1/21 [00:11<03:44, 11.24s/it]"
     ]
    },
    {
     "name": "stdout",
     "output_type": "stream",
     "text": [
      "Successfully downsampled P24-47_EB_Rb-1a-2025_03_03__0025.czi.\n"
     ]
    },
    {
     "name": "stderr",
     "output_type": "stream",
     "text": [
      "Converting files:  10%|▉         | 2/21 [00:31<05:14, 16.54s/it]"
     ]
    },
    {
     "name": "stdout",
     "output_type": "stream",
     "text": [
      "Successfully downsampled P24-47_FL_Lb-1a-2025_03_03__0039.czi.\n"
     ]
    },
    {
     "name": "stderr",
     "output_type": "stream",
     "text": [
      "Converting files:  14%|█▍        | 3/21 [00:40<03:56, 13.12s/it]"
     ]
    },
    {
     "name": "stdout",
     "output_type": "stream",
     "text": [
      "Successfully downsampled P24-47_FL_Rb-1a-2025_03_03__0030.czi.\n"
     ]
    },
    {
     "name": "stderr",
     "output_type": "stream",
     "text": [
      "Converting files:  19%|█▉        | 4/21 [00:55<03:57, 13.99s/it]"
     ]
    },
    {
     "name": "stdout",
     "output_type": "stream",
     "text": [
      "Successfully downsampled P24-47_EB_Lc-1a-2025_03_03__0040.czi.\n"
     ]
    },
    {
     "name": "stderr",
     "output_type": "stream",
     "text": [
      "Converting files:  24%|██▍       | 5/21 [01:09<03:39, 13.69s/it]"
     ]
    },
    {
     "name": "stdout",
     "output_type": "stream",
     "text": [
      "Successfully downsampled P24-47_EB_Ra-1a-2025_03_03__0034.czi.\n"
     ]
    },
    {
     "name": "stderr",
     "output_type": "stream",
     "text": [
      "Converting files:  29%|██▊       | 6/21 [01:26<03:45, 15.00s/it]"
     ]
    },
    {
     "name": "stdout",
     "output_type": "stream",
     "text": [
      "Successfully downsampled P24-47_FL_Ra-1a-2025_03_03__0032.czi.\n"
     ]
    },
    {
     "name": "stderr",
     "output_type": "stream",
     "text": [
      "Converting files:  33%|███▎      | 7/21 [01:33<02:54, 12.44s/it]"
     ]
    },
    {
     "name": "stdout",
     "output_type": "stream",
     "text": [
      "Successfully downsampled P24-9_TC_R-1a-2025_03_03__0043.czi.\n"
     ]
    },
    {
     "name": "stderr",
     "output_type": "stream",
     "text": [
      "Converting files:  38%|███▊      | 8/21 [01:47<02:46, 12.78s/it]"
     ]
    },
    {
     "name": "stdout",
     "output_type": "stream",
     "text": [
      "Successfully downsampled P24-9_TC_L-1a-2025_03_03__0041.czi.\n"
     ]
    },
    {
     "name": "stderr",
     "output_type": "stream",
     "text": [
      "Converting files:  43%|████▎     | 9/21 [02:07<03:02, 15.24s/it]"
     ]
    },
    {
     "name": "stdout",
     "output_type": "stream",
     "text": [
      "Successfully downsampled P24-47_FL_Lc-1a-2025_03_03__0026.czi.\n"
     ]
    },
    {
     "name": "stderr",
     "output_type": "stream",
     "text": [
      "Converting files:  48%|████▊     | 10/21 [02:22<02:43, 14.91s/it]"
     ]
    },
    {
     "name": "stdout",
     "output_type": "stream",
     "text": [
      "Successfully downsampled P24-47_TC_Lb-1a-2025_03_03__0024.czi.\n"
     ]
    },
    {
     "name": "stderr",
     "output_type": "stream",
     "text": [
      "Converting files:  52%|█████▏    | 11/21 [02:30<02:08, 12.81s/it]"
     ]
    },
    {
     "name": "stdout",
     "output_type": "stream",
     "text": [
      "Successfully downsampled P24-47_FL_Rc-1a-2025_03_03__0029.czi.\n"
     ]
    },
    {
     "name": "stderr",
     "output_type": "stream",
     "text": [
      "Converting files:  57%|█████▋    | 12/21 [02:39<01:46, 11.83s/it]"
     ]
    },
    {
     "name": "stdout",
     "output_type": "stream",
     "text": [
      "Successfully downsampled P24-47_EB_Rc-1a-2025_03_03__0004.czi.\n"
     ]
    },
    {
     "name": "stderr",
     "output_type": "stream",
     "text": [
      "Converting files:  62%|██████▏   | 13/21 [03:02<02:00, 15.07s/it]"
     ]
    },
    {
     "name": "stdout",
     "output_type": "stream",
     "text": [
      "Successfully downsampled P24-47_FL_La-1a-2025_03_03__0036.czi.\n"
     ]
    },
    {
     "name": "stderr",
     "output_type": "stream",
     "text": [
      "Converting files:  67%|██████▋   | 14/21 [03:16<01:43, 14.72s/it]"
     ]
    },
    {
     "name": "stdout",
     "output_type": "stream",
     "text": [
      "Successfully downsampled P24-47_EB_La-1a-2025_03_03__0033.czi.\n"
     ]
    },
    {
     "name": "stderr",
     "output_type": "stream",
     "text": [
      "Converting files:  71%|███████▏  | 15/21 [03:24<01:16, 12.74s/it]"
     ]
    },
    {
     "name": "stdout",
     "output_type": "stream",
     "text": [
      "Successfully downsampled P24-47_TC_Rb-1a-2025_03_03__0023.czi.\n"
     ]
    },
    {
     "name": "stderr",
     "output_type": "stream",
     "text": [
      "Converting files:  76%|███████▌  | 16/21 [03:40<01:08, 13.74s/it]"
     ]
    },
    {
     "name": "stdout",
     "output_type": "stream",
     "text": [
      "Successfully downsampled P24-47_EB_Lb-1a-2025_03_03__0037.czi.\n"
     ]
    },
    {
     "name": "stderr",
     "output_type": "stream",
     "text": [
      "Converting files:  81%|████████  | 17/21 [03:59<01:01, 15.34s/it]"
     ]
    },
    {
     "name": "stdout",
     "output_type": "stream",
     "text": [
      "Successfully downsampled P24-47_TC_Lc-1a-2025_03_03__0031.czi.\n"
     ]
    },
    {
     "name": "stderr",
     "output_type": "stream",
     "text": [
      "Converting files:  86%|████████▌ | 18/21 [04:08<00:40, 13.51s/it]"
     ]
    },
    {
     "name": "stdout",
     "output_type": "stream",
     "text": [
      "Successfully downsampled P24-47_TC_Rc-1a-2025_03_03__0003.czi.\n"
     ]
    },
    {
     "name": "stderr",
     "output_type": "stream",
     "text": [
      "Converting files:  90%|█████████ | 19/21 [04:23<00:27, 13.84s/it]"
     ]
    },
    {
     "name": "stdout",
     "output_type": "stream",
     "text": [
      "Successfully downsampled P24-47_TC_La-1a-2025_03_03__0038.czi.\n"
     ]
    },
    {
     "name": "stderr",
     "output_type": "stream",
     "text": [
      "Converting files:  95%|█████████▌| 20/21 [04:36<00:13, 13.60s/it]"
     ]
    },
    {
     "name": "stdout",
     "output_type": "stream",
     "text": [
      "Successfully downsampled P24-47_TC_Ra-1a-2025_03_03__0035.czi.\n"
     ]
    },
    {
     "name": "stderr",
     "output_type": "stream",
     "text": [
      "Converting files: 100%|██████████| 21/21 [04:46<00:00, 13.62s/it]"
     ]
    },
    {
     "name": "stdout",
     "output_type": "stream",
     "text": [
      "Successfully downsampled P24-9_TC_L-1c-2025_03_03__0042.czi.\n",
      "All CZI files have been converted to TIFF and downsampled.\n"
     ]
    },
    {
     "name": "stderr",
     "output_type": "stream",
     "text": [
      "\n"
     ]
    }
   ],
   "source": [
    "import os\n",
    "import czifile\n",
    "import tifffile\n",
    "from tqdm import tqdm\n",
    "from PIL import Image\n",
    "\n",
    "Image.MAX_IMAGE_PIXELS = None\n",
    "\n",
    "# Path to directory containing the CZI files\n",
    "czi_dir = 'czi_files'\n",
    "\n",
    "# Directory to save the TIFF files\n",
    "# creates subfolder within directory 'TIFF files'\n",
    "tiff_dir = os.path.join(czi_dir, 'tiff_files')\n",
    "os.makedirs(tiff_dir, exist_ok=True)\n",
    "\n",
    "max_width = 10000  # Maximum width after downsampling\n",
    "max_height = 10000  # Maximum height after downsampling\n",
    "max_file_size = 1100000000 # set max file size at 1.1GB\n",
    "\n",
    "# Get all files in directory ending with '.czi'\n",
    "czi_files = [file for file in os.listdir(czi_dir) if file.endswith('.czi')]\n",
    "\n",
    "\n",
    "# Loop over all files in the directory\n",
    "for filename in tqdm(czi_files, desc=\"Converting files\"):\n",
    "    # Construct the full file path\n",
    "    czi_file = os.path.join(czi_dir, filename)\n",
    "\n",
    "    # check to see if file size < 1GB\n",
    "    file_size = os.path.getsize(czi_file)\n",
    "\n",
    "    # if file is small enough, proceed with conversion and downsampling\n",
    "    if file_size < max_file_size:\n",
    "\n",
    "        try:\n",
    "            # Try to read the CZI file\n",
    "            with czifile.CziFile(czi_file) as czi:\n",
    "                img_data = czi.asarray()\n",
    "\n",
    "        except Exception as e:\n",
    "            print(f\"File {filename} raised an error during processing: {str(e)}. Continuing with next file.\")        \n",
    "            continue\n",
    "            \n",
    "        # Construct the output file path (change the extension to .tiff)\n",
    "        tiff_file = os.path.join(tiff_dir, os.path.splitext(filename)[0] + '.tiff')\n",
    "        \n",
    "        # Save as a TIFF file\n",
    "        tifffile.imsave(tiff_file, img_data)\n",
    "\n",
    "        try:\n",
    "        #downsample and save over original tiff file\n",
    "            with Image.open(tiff_file) as img:\n",
    "                # Resize the image while preserving aspect ratio\n",
    "                img.thumbnail((max_width, max_height))\n",
    "                # Save the resized image\n",
    "                img.save(tiff_file)\n",
    "            \n",
    "            print(f\"Successfully downsampled {filename}.\")\n",
    "        \n",
    "        except Exception as e:\n",
    "            print(f\"An error occurred while processing {filename}: {e}. Continuing with next file.\")\n",
    "    \n",
    "    # if file is too large, skip.\n",
    "    else:\n",
    "        print(f\"{filename} exceeds max file size. Skipping.\")\n",
    "\n",
    "print(\"All CZI files have been converted to TIFF and downsampled.\")\n"
   ]
  }
 ],
 "metadata": {
  "kernelspec": {
   "display_name": "PythonData",
   "language": "python",
   "name": "python3"
  },
  "language_info": {
   "codemirror_mode": {
    "name": "ipython",
    "version": 3
   },
   "file_extension": ".py",
   "mimetype": "text/x-python",
   "name": "python",
   "nbconvert_exporter": "python",
   "pygments_lexer": "ipython3",
   "version": "3.9.19"
  }
 },
 "nbformat": 4,
 "nbformat_minor": 2
}
