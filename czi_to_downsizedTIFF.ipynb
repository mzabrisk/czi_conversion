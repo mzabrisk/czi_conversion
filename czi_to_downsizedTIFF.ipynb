{
 "cells": [
  {
   "cell_type": "code",
   "execution_count": 1,
   "metadata": {},
   "outputs": [
    {
     "name": "stderr",
     "output_type": "stream",
     "text": [
      "Converting files:   0%|          | 0/14 [00:00<?, ?it/s]/var/folders/ky/zl0049892b138kmk5t49jgjr0000gp/T/ipykernel_12193/1849661167.py:49: DeprecationWarning: <tifffile.imsave> is deprecated. Use tifffile.imwrite\n",
      "  tifffile.imsave(tiff_file, img_data)\n",
      "Converting files:   7%|▋         | 1/14 [00:29<06:29, 29.95s/it]"
     ]
    },
    {
     "name": "stdout",
     "output_type": "stream",
     "text": [
      "Successfully downsampled P24-12_MM_La-1a-2024_10_28_01.czi.\n"
     ]
    },
    {
     "name": "stderr",
     "output_type": "stream",
     "text": [
      "Converting files:  14%|█▍        | 2/14 [01:00<06:03, 30.33s/it]"
     ]
    },
    {
     "name": "stdout",
     "output_type": "stream",
     "text": [
      "Successfully downsampled P24-12_MM_Rb-1a-2024_10_28_06.czi.\n"
     ]
    },
    {
     "name": "stderr",
     "output_type": "stream",
     "text": [
      "Converting files:  21%|██▏       | 3/14 [01:42<06:33, 35.82s/it]"
     ]
    },
    {
     "name": "stdout",
     "output_type": "stream",
     "text": [
      "Successfully downsampled P24-12_MM_Rd-1a-2024_10_28_08.czi.\n"
     ]
    },
    {
     "name": "stderr",
     "output_type": "stream",
     "text": [
      "Converting files:  29%|██▊       | 4/14 [02:22<06:12, 37.20s/it]"
     ]
    },
    {
     "name": "stdout",
     "output_type": "stream",
     "text": [
      "Successfully downsampled P24-12_MM_Ld-1a-2024_10_28_04.czi.\n"
     ]
    },
    {
     "name": "stderr",
     "output_type": "stream",
     "text": [
      "Converting files:  36%|███▌      | 5/14 [02:33<04:10, 27.84s/it]"
     ]
    },
    {
     "name": "stdout",
     "output_type": "stream",
     "text": [
      "Successfully downsampled P24-12_FT_L-1a-2024_10_28_11.czi.\n"
     ]
    },
    {
     "name": "stderr",
     "output_type": "stream",
     "text": [
      "Converting files:  43%|████▎     | 6/14 [03:00<03:39, 27.46s/it]"
     ]
    },
    {
     "name": "stdout",
     "output_type": "stream",
     "text": [
      "Successfully downsampled P24-12_FT_R-1a-2024_10_28_14.czi.\n"
     ]
    },
    {
     "name": "stderr",
     "output_type": "stream",
     "text": [
      "Converting files:  50%|█████     | 7/14 [03:20<02:56, 25.27s/it]"
     ]
    },
    {
     "name": "stdout",
     "output_type": "stream",
     "text": [
      "Successfully downsampled P24-13_FT_L-1a-2024_10_28_09.czi.\n"
     ]
    },
    {
     "name": "stderr",
     "output_type": "stream",
     "text": [
      "Converting files:  57%|█████▋    | 8/14 [03:52<02:44, 27.35s/it]"
     ]
    },
    {
     "name": "stdout",
     "output_type": "stream",
     "text": [
      "Successfully downsampled P24-12_MM_Rc-1a-2024_10_28_07.czi.\n"
     ]
    },
    {
     "name": "stderr",
     "output_type": "stream",
     "text": [
      "Converting files:  64%|██████▍   | 9/14 [04:25<02:25, 29.04s/it]"
     ]
    },
    {
     "name": "stdout",
     "output_type": "stream",
     "text": [
      "Successfully downsampled P24-14_FT_R-1a-2024_10_28_15.czi.\n"
     ]
    },
    {
     "name": "stderr",
     "output_type": "stream",
     "text": [
      "Converting files:  71%|███████▏  | 10/14 [04:40<01:38, 24.56s/it]"
     ]
    },
    {
     "name": "stdout",
     "output_type": "stream",
     "text": [
      "Successfully downsampled P24-13_FT_R-1a-2024_10_28_10.czi.\n"
     ]
    },
    {
     "name": "stderr",
     "output_type": "stream",
     "text": [
      "Converting files:  79%|███████▊  | 11/14 [04:54<01:04, 21.51s/it]"
     ]
    },
    {
     "name": "stdout",
     "output_type": "stream",
     "text": [
      "Successfully downsampled P24-14_FT_L-1a-2024_10_28_13.czi.\n"
     ]
    },
    {
     "name": "stderr",
     "output_type": "stream",
     "text": [
      "Converting files:  86%|████████▌ | 12/14 [05:23<00:47, 23.76s/it]"
     ]
    },
    {
     "name": "stdout",
     "output_type": "stream",
     "text": [
      "Successfully downsampled P24-12_MM_Lc-1a-2024_10_28_03.czi.\n"
     ]
    },
    {
     "name": "stderr",
     "output_type": "stream",
     "text": [
      "Converting files:  93%|█████████▎| 13/14 [05:57<00:26, 26.89s/it]"
     ]
    },
    {
     "name": "stdout",
     "output_type": "stream",
     "text": [
      "Successfully downsampled P24-12_MM_Ra-1a-2024_10_28_05.czi.\n"
     ]
    },
    {
     "name": "stderr",
     "output_type": "stream",
     "text": [
      "Converting files: 100%|██████████| 14/14 [06:27<00:00, 27.64s/it]"
     ]
    },
    {
     "name": "stdout",
     "output_type": "stream",
     "text": [
      "Successfully downsampled P24-12_MM_Lb-1a-2024_10_28_02.czi.\n",
      "All CZI files have been converted to TIFF and downsampled.\n"
     ]
    },
    {
     "name": "stderr",
     "output_type": "stream",
     "text": [
      "\n"
     ]
    }
   ],
   "source": [
    "import os\n",
    "import czifile\n",
    "import tifffile\n",
    "from tqdm import tqdm\n",
    "from PIL import Image\n",
    "\n",
    "Image.MAX_IMAGE_PIXELS = None\n",
    "\n",
    "# Path to directory containing the CZI files\n",
    "czi_dir = 'czi_files'\n",
    "\n",
    "# Directory to save the TIFF files\n",
    "# creates subfolder within directory 'TIFF files'\n",
    "tiff_dir = os.path.join(czi_dir, 'tiff_files')\n",
    "os.makedirs(tiff_dir, exist_ok=True)\n",
    "\n",
    "max_width = 10000  # Maximum width after downsampling\n",
    "max_height = 10000  # Maximum height after downsampling\n",
    "max_file_size = 1100000000 # set max file size at 1.1GB\n",
    "\n",
    "# Get all files in directory ending with '.czi'\n",
    "czi_files = [file for file in os.listdir(czi_dir) if file.endswith('.czi')]\n",
    "\n",
    "\n",
    "# Loop over all files in the directory\n",
    "for filename in tqdm(czi_files, desc=\"Converting files\"):\n",
    "    # Construct the full file path\n",
    "    czi_file = os.path.join(czi_dir, filename)\n",
    "\n",
    "    # check to see if file size < 1GB\n",
    "    file_size = os.path.getsize(czi_file)\n",
    "\n",
    "    # if file is small enough, proceed with conversion and downsampling\n",
    "    if file_size < max_file_size:\n",
    "\n",
    "        try:\n",
    "            # Try to read the CZI file\n",
    "            with czifile.CziFile(czi_file) as czi:\n",
    "                img_data = czi.asarray()\n",
    "\n",
    "        except Exception as e:\n",
    "            print(f\"File {filename} raised an error during processing: {str(e)}. Continuing with next file.\")        \n",
    "            continue\n",
    "            \n",
    "        # Construct the output file path (change the extension to .tiff)\n",
    "        tiff_file = os.path.join(tiff_dir, os.path.splitext(filename)[0] + '.tiff')\n",
    "        \n",
    "        # Save as a TIFF file\n",
    "        tifffile.imsave(tiff_file, img_data)\n",
    "\n",
    "        try:\n",
    "        #downsample and save over original tiff file\n",
    "            with Image.open(tiff_file) as img:\n",
    "                # Resize the image while preserving aspect ratio\n",
    "                img.thumbnail((max_width, max_height))\n",
    "                # Save the resized image\n",
    "                img.save(tiff_file)\n",
    "            \n",
    "            print(f\"Successfully downsampled {filename}.\")\n",
    "        \n",
    "        except Exception as e:\n",
    "            print(f\"An error occurred while processing {filename}: {e}. Continuing with next file.\")\n",
    "    \n",
    "    # if file is too large, skip.\n",
    "    else:\n",
    "        print(f\"{filename} exceeds max file size. Skipping.\")\n",
    "\n",
    "print(\"All CZI files have been converted to TIFF and downsampled.\")\n"
   ]
  }
 ],
 "metadata": {
  "kernelspec": {
   "display_name": "PythonData",
   "language": "python",
   "name": "python3"
  },
  "language_info": {
   "codemirror_mode": {
    "name": "ipython",
    "version": 3
   },
   "file_extension": ".py",
   "mimetype": "text/x-python",
   "name": "python",
   "nbconvert_exporter": "python",
   "pygments_lexer": "ipython3",
   "version": "3.9.19"
  }
 },
 "nbformat": 4,
 "nbformat_minor": 2
}
