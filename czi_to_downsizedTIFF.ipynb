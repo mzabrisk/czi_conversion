{
 "cells": [
  {
   "cell_type": "code",
   "execution_count": 1,
   "metadata": {},
   "outputs": [
    {
     "name": "stderr",
     "output_type": "stream",
     "text": [
      "Converting files:   0%|          | 0/2 [00:00<?, ?it/s]/var/folders/ky/zl0049892b138kmk5t49jgjr0000gp/T/ipykernel_50770/1143226576.py:50: DeprecationWarning: <tifffile.imsave> is deprecated. Use tifffile.imwrite\n",
      "  tifffile.imsave(tiff_file, img_data)\n",
      "Converting files:  50%|█████     | 1/2 [00:18<00:18, 18.31s/it]"
     ]
    },
    {
     "name": "stdout",
     "output_type": "stream",
     "text": [
      "Successfully downsampled P21-56CPN_R-1a-2023_10_25__0008.czi.\n"
     ]
    },
    {
     "name": "stderr",
     "output_type": "stream",
     "text": [
      "Converting files: 100%|██████████| 2/2 [00:34<00:00, 17.22s/it]"
     ]
    },
    {
     "name": "stdout",
     "output_type": "stream",
     "text": [
      "Successfully downsampled P21-56CPN_L-1a-2023_10_25__0007.czi.\n",
      "All CZI files have been converted to TIFF and downsampled.\n"
     ]
    },
    {
     "name": "stderr",
     "output_type": "stream",
     "text": [
      "\n"
     ]
    }
   ],
   "source": [
    "import os\n",
    "import czifile\n",
    "import tifffile\n",
    "from tqdm import tqdm\n",
    "from PIL import Image\n",
    "\n",
    "Image.MAX_IMAGE_PIXELS = None\n",
    "\n",
    "# Path to directory containing the CZI files\n",
    "czi_dir = '/Users/mzabriskie/Desktop/repos/czi_conversion/czi_files'\n",
    "\n",
    "# Directory to save the TIFF files\n",
    "# creates subfolder within directory 'TIFF files'\n",
    "tiff_dir = os.path.join(czi_dir, 'tiff_files')\n",
    "os.makedirs(tiff_dir, exist_ok=True)\n",
    "\n",
    "max_width = 10000  # Maximum width after downsampling\n",
    "max_height = 10000  # Maximum height after downsampling\n",
    "\n",
    "max_file_size = 1000000000\n",
    "\n",
    "# Get all files in directory ending with '.czi'\n",
    "czi_files = [file for file in os.listdir(czi_dir) if file.endswith('.czi')]\n",
    "\n",
    "\n",
    "# Loop over all files in the directory\n",
    "for filename in tqdm(czi_files, desc=\"Converting files\"):\n",
    "    # Construct the full file path\n",
    "    czi_file = os.path.join(czi_dir, filename)\n",
    "\n",
    "    # check to see if file size < 1GB\n",
    "    file_size = os.path.getsize(czi_file)\n",
    "\n",
    "    # if file is small enough, proceed with conversion and downsampling\n",
    "    if file_size < max_file_size:\n",
    "\n",
    "        try:\n",
    "            # Try to read the CZI file\n",
    "            with czifile.CziFile(czi_file) as czi:\n",
    "                img_data = czi.asarray()\n",
    "\n",
    "        except Exception as e:\n",
    "            print(f\"File {filename} raised an error during processing: {str(e)}. Continuing with next file.\")        \n",
    "            continue\n",
    "            \n",
    "        # Construct the output file path (change the extension to .tiff)\n",
    "        tiff_file = os.path.join(tiff_dir, os.path.splitext(filename)[0] + '.tiff')\n",
    "        \n",
    "        # Save as a TIFF file\n",
    "        tifffile.imsave(tiff_file, img_data)\n",
    "\n",
    "        try:\n",
    "        #downsample and save over original tiff file\n",
    "            with Image.open(tiff_file) as img:\n",
    "                # Resize the image while preserving aspect ratio\n",
    "                img.thumbnail((max_width, max_height))\n",
    "                # Save the resized image\n",
    "                img.save(tiff_file)\n",
    "            \n",
    "            print(f\"Successfully downsampled {filename}.\")\n",
    "        \n",
    "        except Exception as e:\n",
    "            print(f\"An error occurred while processing {filename}: {e}. Continuing with next file.\")\n",
    "    \n",
    "    # if file is too large, skip.\n",
    "    else:\n",
    "        print(f\"{filename} exceeds max file size. Skipping.\")\n",
    "\n",
    "print(\"All CZI files have been converted to TIFF and downsampled.\")\n"
   ]
  }
 ],
 "metadata": {
  "kernelspec": {
   "display_name": "PythonData",
   "language": "python",
   "name": "python3"
  },
  "language_info": {
   "codemirror_mode": {
    "name": "ipython",
    "version": 3
   },
   "file_extension": ".py",
   "mimetype": "text/x-python",
   "name": "python",
   "nbconvert_exporter": "python",
   "pygments_lexer": "ipython3",
   "version": "3.9.19"
  }
 },
 "nbformat": 4,
 "nbformat_minor": 2
}
