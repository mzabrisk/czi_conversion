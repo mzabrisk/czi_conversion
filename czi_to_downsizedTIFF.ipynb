{
 "cells": [
  {
   "cell_type": "code",
   "execution_count": 7,
   "metadata": {},
   "outputs": [
    {
     "name": "stderr",
     "output_type": "stream",
     "text": [
      "Converting files:   0%|          | 0/7 [00:00<?, ?it/s]"
     ]
    },
    {
     "name": "stdout",
     "output_type": "stream",
     "text": [
      "P79_L4_R 1 - 2022_10_10_940.czi\n"
     ]
    },
    {
     "name": "stderr",
     "output_type": "stream",
     "text": [
      "/var/folders/ky/zl0049892b138kmk5t49jgjr0000gp/T/ipykernel_38498/3364029850.py:43: DeprecationWarning: <tifffile.imsave> is deprecated. Use tifffile.imwrite\n",
      "  tifffile.imsave(tiff_file, img_data)\n",
      "Converting files:  14%|█▍        | 1/7 [01:27<08:47, 87.97s/it]"
     ]
    },
    {
     "name": "stdout",
     "output_type": "stream",
     "text": [
      "Successfully downsampled P79_L4_R 1 - 2022_10_10_940.czi.\n",
      "2023_03_31__0060.czi\n"
     ]
    },
    {
     "name": "stderr",
     "output_type": "stream",
     "text": [
      "Converting files:  29%|██▊       | 2/7 [01:31<03:10, 38.11s/it]"
     ]
    },
    {
     "name": "stdout",
     "output_type": "stream",
     "text": [
      "Successfully downsampled 2023_03_31__0060.czi.\n",
      "2023_04_05__0001.czi\n"
     ]
    },
    {
     "ename": "",
     "evalue": "",
     "output_type": "error",
     "traceback": [
      "\u001b[1;31mThe Kernel crashed while executing code in the current cell or a previous cell. \n",
      "\u001b[1;31mPlease review the code in the cell(s) to identify a possible cause of the failure. \n",
      "\u001b[1;31mClick <a href='https://aka.ms/vscodeJupyterKernelCrash'>here</a> for more info. \n",
      "\u001b[1;31mView Jupyter <a href='command:jupyter.viewOutput'>log</a> for further details."
     ]
    }
   ],
   "source": [
    "import os\n",
    "import czifile\n",
    "import tifffile\n",
    "from tqdm import tqdm\n",
    "from PIL import Image\n",
    "\n",
    "Image.MAX_IMAGE_PIXELS = None\n",
    "\n",
    "# Path to directory containing the CZI files\n",
    "czi_dir = '/Users/mzabriskie/Desktop/repos/czi_conversion/czi_files'\n",
    "\n",
    "# Directory to save the TIFF files\n",
    "# creates subfolder within directory 'TIFF files'\n",
    "tiff_dir = os.path.join(czi_dir, 'tiff_files')\n",
    "os.makedirs(tiff_dir, exist_ok=True)\n",
    "\n",
    "max_width = 6000  # Maximum width after downsampling\n",
    "max_height = 6000  # Maximum height after downsampling\n",
    "\n",
    "# Get all files in directory ending with '.czi'\n",
    "czi_files = [file for file in os.listdir(czi_dir) if file.endswith('.czi')]\n",
    "\n",
    "\n",
    "# Loop over all files in the directory\n",
    "for filename in tqdm(czi_files, desc=\"Converting files\"):\n",
    "    # Construct the full file path\n",
    "    czi_file = os.path.join(czi_dir, filename)\n",
    "    print(filename)\n",
    "\n",
    "    try:\n",
    "        # Try to read the CZI file\n",
    "        with czifile.CziFile(czi_file) as czi:\n",
    "            img_data = czi.asarray()\n",
    "\n",
    "    except Exception as e:\n",
    "        print(f\"File {filename} raised an error during processing: {str(e)}. Continuing with next file.\")        \n",
    "        continue\n",
    "        \n",
    "    # Construct the output file path (change the extension to .tiff)\n",
    "    tiff_file = os.path.join(tiff_dir, os.path.splitext(filename)[0] + '.tiff')\n",
    "    \n",
    "    # Save as a TIFF file\n",
    "    tifffile.imsave(tiff_file, img_data)\n",
    "\n",
    "    try:\n",
    "       #downsample and save over original tiff file\n",
    "        with Image.open(tiff_file) as img:\n",
    "            # Resize the image while preserving aspect ratio\n",
    "            img.thumbnail((max_width, max_height))\n",
    "            # Save the resized image\n",
    "            img.save(tiff_file)\n",
    "        \n",
    "        print(f\"Successfully downsampled {filename}.\")\n",
    "    \n",
    "    except Exception as e:\n",
    "        print(f\"An error occurred while processing {filename}: {e}. Continuing with next file.\")\n",
    "\n",
    "\n",
    "print(\"All CZI files have been converted to TIFF.\")\n"
   ]
  }
 ],
 "metadata": {
  "kernelspec": {
   "display_name": "PythonData",
   "language": "python",
   "name": "python3"
  },
  "language_info": {
   "codemirror_mode": {
    "name": "ipython",
    "version": 3
   },
   "file_extension": ".py",
   "mimetype": "text/x-python",
   "name": "python",
   "nbconvert_exporter": "python",
   "pygments_lexer": "ipython3",
   "version": "3.9.19"
  }
 },
 "nbformat": 4,
 "nbformat_minor": 2
}
