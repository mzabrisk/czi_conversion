{
 "cells": [
  {
   "cell_type": "code",
   "execution_count": 1,
   "metadata": {},
   "outputs": [
    {
     "name": "stderr",
     "output_type": "stream",
     "text": [
      "Converting files:   0%|          | 0/3 [00:00<?, ?it/s]"
     ]
    },
    {
     "name": "stdout",
     "output_type": "stream",
     "text": [
      "A TIFF file already exists for 2023_08_08__0017.czi\n",
      "Generating jpeg for 2023_08_08__0017.czi\n"
     ]
    },
    {
     "ename": "",
     "evalue": "",
     "output_type": "error",
     "traceback": [
      "\u001b[1;31mCannot execute code, session has been disposed. Please try restarting the Kernel."
     ]
    },
    {
     "ename": "",
     "evalue": "",
     "output_type": "error",
     "traceback": [
      "\u001b[1;31mThe Kernel crashed while executing code in the the current cell or a previous cell. Please review the code in the cell(s) to identify a possible cause of the failure. Click <a href='https://aka.ms/vscodeJupyterKernelCrash'>here</a> for more info. View Jupyter <a href='command:jupyter.viewOutput'>log</a> for further details."
     ]
    }
   ],
   "source": [
    "import numpy as np\n",
    "import pathlib\n",
    "from PIL import Image\n",
    "from aicspylibczi import CziFile\n",
    "from pathlib import Path\n",
    "import os\n",
    "import tifffile\n",
    "from tqdm import tqdm\n",
    "\n",
    "Image.MAX_IMAGE_PIXELS = None\n",
    "\n",
    "# Path to directory containing the CZI files\n",
    "# czi_dir = '/Users/mattzabriskie/Library/CloudStorage/Box-Box/MattZ_Work/Clinicians_PIs/LubdhaShah_ViolaRieke/cervical_fus_goat_research/Data/Histology/scanned_slides/2023.08.08'\n",
    "czi_dir = '/Users/mattzabriskie/Desktop/czi_conversion/czi_files'\n",
    "\n",
    "# create directory to save tiff files\n",
    "tiff_dir = os.path.join(czi_dir, 'tiff_files')\n",
    "os.makedirs(tiff_dir, exist_ok=True)\n",
    "\n",
    "# create directory to save jpg files\n",
    "jpg_dir = os.path.join(czi_dir, 'jpg_files')\n",
    "os.makedirs(jpg_dir, exist_ok=True)\n",
    "\n",
    "# Get all files in directory ending with '.czi'\n",
    "czi_files = [file for file in os.listdir(czi_dir) if file.endswith('.czi')]\n",
    "\n",
    "# Loop over all files in the directory\n",
    "for filename in tqdm(czi_files, desc=\"Converting files\"):\n",
    "    # Construct the full file path\n",
    "\n",
    "    # check to see if the CZI has already been converted to TIFF\n",
    "    if os.path.isfile(os.path.splitext(os.path.join(tiff_dir, filename))[0] + \".tiff\"):\n",
    "                print(\"A TIFF file already exists for %s\" % filename)\n",
    "\n",
    "    # if no TIFF, create TIFF from CZI\n",
    "    else:\n",
    "        czi_file = os.path.join(czi_dir, filename)\n",
    "        print(filename)\n",
    "\n",
    "        try:\n",
    "            # Try to read the CZI file\n",
    "            czi = CziFile(pathlib.Path(czi_file))\n",
    "\n",
    "            czi_data = czi.read_mosaic(C=0, scale_factor=1)\n",
    "\n",
    "        except Exception as e:\n",
    "            print(f\"File {filename} raised an error during processing: {str(e)}. Continuing with next file.\")        \n",
    "            continue\n",
    "            \n",
    "        # Construct the output file path (change the extension to .tiff)\n",
    "        tiff_file = os.path.join(tiff_dir, os.path.splitext(filename)[0] + '.tiff')\n",
    "        \n",
    "        # Save as a TIFF file\n",
    "        tifffile.imsave(tiff_file, czi_data)\n",
    "\n",
    "    # check to see if the TIFF has already been converted to JPG\n",
    "    if os.path.isfile(os.path.splitext(os.path.join(tiff_dir, filename))[0] + \".jpg\"):\n",
    "                print(\"A JPG file already exists for %s\" % filename)\n",
    "\n",
    "    # if no JPG, create JPG from TIFF\n",
    "    else:\n",
    "        # construct jpeg outfile path\n",
    "        jpg_file = os.path.join(jpg_dir, os.path.splitext(filename)[0] + '.jpg')\n",
    "        try:\n",
    "            im = Image.open(os.path.join(tiff_dir, os.path.splitext(filename)[0] + '.tiff'))\n",
    "            print(\"Generating jpeg for %s\" % filename)\n",
    "            im.thumbnail(im.size)\n",
    "            im.save(jpg_file, \"JPEG\", quality=50)\n",
    "        except Exception as e:\n",
    "                print(e)\n",
    "\n",
    "print(\"All CZI files have been converted to TIFF.\")\n",
    "print(\"All TIFF files have been converted to JPG.\")\n"
   ]
  }
 ],
 "metadata": {
  "kernelspec": {
   "display_name": "PythonData",
   "language": "python",
   "name": "python3"
  },
  "language_info": {
   "codemirror_mode": {
    "name": "ipython",
    "version": 3
   },
   "file_extension": ".py",
   "mimetype": "text/x-python",
   "name": "python",
   "nbconvert_exporter": "python",
   "pygments_lexer": "ipython3",
   "version": "3.9.16"
  },
  "orig_nbformat": 4
 },
 "nbformat": 4,
 "nbformat_minor": 2
}
