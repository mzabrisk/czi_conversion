{
 "cells": [
  {
   "cell_type": "code",
   "execution_count": 17,
   "metadata": {},
   "outputs": [
    {
     "name": "stderr",
     "output_type": "stream",
     "text": [
      "Converting files:   0%|          | 0/2 [00:00<?, ?it/s]"
     ]
    },
    {
     "name": "stdout",
     "output_type": "stream",
     "text": [
      "A TIFF file already exists for 2023_03_02__0002.czi\n",
      "Generating jpeg for 2023_03_02__0002.czi\n"
     ]
    },
    {
     "name": "stderr",
     "output_type": "stream",
     "text": [
      "Converting files:  50%|█████     | 1/2 [00:12<00:12, 12.57s/it]"
     ]
    },
    {
     "name": "stdout",
     "output_type": "stream",
     "text": [
      "A TIFF file already exists for 2023_03_02__0005.czi\n",
      "Generating jpeg for 2023_03_02__0005.czi\n"
     ]
    },
    {
     "name": "stderr",
     "output_type": "stream",
     "text": [
      "Converting files: 100%|██████████| 2/2 [00:26<00:00, 13.41s/it]"
     ]
    },
    {
     "name": "stdout",
     "output_type": "stream",
     "text": [
      "All CZI files have been converted to TIFF.\n",
      "All TIFF files have been converted to JPG.\n"
     ]
    },
    {
     "name": "stderr",
     "output_type": "stream",
     "text": [
      "\n"
     ]
    }
   ],
   "source": [
    "import numpy as np\n",
    "import pathlib\n",
    "from PIL import Image\n",
    "from aicspylibczi import CziFile\n",
    "from pathlib import Path\n",
    "import os\n",
    "import tifffile\n",
    "from tqdm import tqdm\n",
    "\n",
    "Image.MAX_IMAGE_PIXELS = None\n",
    "\n",
    "# Path to directory containing the CZI files\n",
    "czi_dir = '/Users/mattzabriskie/Desktop/czi_conversion/czi_files'\n",
    "\n",
    "# create directory to save tiff files\n",
    "tiff_dir = os.path.join(czi_dir, 'tiff_files')\n",
    "os.makedirs(tiff_dir, exist_ok=True)\n",
    "\n",
    "# create directory to save jpg files\n",
    "jpg_dir = os.path.join(czi_dir, 'jpg_files')\n",
    "os.makedirs(jpg_dir, exist_ok=True)\n",
    "\n",
    "# Get all files in directory ending with '.czi'\n",
    "czi_files = [file for file in os.listdir(czi_dir) if file.endswith('.czi')]\n",
    "\n",
    "# Loop over all files in the directory\n",
    "for filename in tqdm(czi_files, desc=\"Converting files\"):\n",
    "    # Construct the full file path\n",
    "\n",
    "    # check to see if the CZI has already been converted to TIFF\n",
    "    if os.path.isfile(os.path.splitext(os.path.join(tiff_dir, filename))[0] + \".tiff\"):\n",
    "                print(\"A TIFF file already exists for %s\" % filename)\n",
    "\n",
    "    # if no TIFF, create TIFF from CZI\n",
    "    else:\n",
    "        czi_file = os.path.join(czi_dir, filename)\n",
    "        print(filename)\n",
    "\n",
    "        try:\n",
    "            # Try to read the CZI file\n",
    "            mosaic_file = pathlib.Path(czi_file)\n",
    "\n",
    "            czi = CziFile(mosaic_file)\n",
    "\n",
    "            mosaic_data = czi.read_mosaic(C=0, scale_factor=1)\n",
    "\n",
    "        except Exception as e:\n",
    "            print(f\"File {filename} raised an error during processing: {str(e)}. Continuing with next file.\")        \n",
    "            continue\n",
    "            \n",
    "        # Construct the output file path (change the extension to .tiff)\n",
    "        tiff_file = os.path.join(tiff_dir, os.path.splitext(filename)[0] + '.tiff')\n",
    "        \n",
    "        # Save as a TIFF file\n",
    "        tifffile.imsave(tiff_file, mosaic_data)\n",
    "\n",
    "    # check to see if the TIFF has already been converted to JPG\n",
    "    if os.path.isfile(os.path.splitext(os.path.join(tiff_dir, filename))[0] + \".jpg\"):\n",
    "                print(\"A JPG file already exists for %s\" % filename)\n",
    "\n",
    "    # if no JPG, create JPG from TIFF\n",
    "    else:\n",
    "        # construct jpeg outfile path\n",
    "        jpg_file = os.path.join(jpg_dir, os.path.splitext(filename)[0] + '.jpg')\n",
    "        try:\n",
    "            im = Image.open(os.path.join(tiff_dir, os.path.splitext(filename)[0] + '.tiff'))\n",
    "            print(\"Generating jpeg for %s\" % filename)\n",
    "            im.thumbnail(im.size)\n",
    "            im.save(jpg_file, \"JPEG\", quality=50)\n",
    "        except Exception as e:\n",
    "                print(e)\n",
    "\n",
    "print(\"All CZI files have been converted to TIFF.\")\n",
    "print(\"All TIFF files have been converted to JPG.\")\n"
   ]
  }
 ],
 "metadata": {
  "kernelspec": {
   "display_name": "PythonData",
   "language": "python",
   "name": "python3"
  },
  "language_info": {
   "codemirror_mode": {
    "name": "ipython",
    "version": 3
   },
   "file_extension": ".py",
   "mimetype": "text/x-python",
   "name": "python",
   "nbconvert_exporter": "python",
   "pygments_lexer": "ipython3",
   "version": "3.9.16"
  },
  "orig_nbformat": 4
 },
 "nbformat": 4,
 "nbformat_minor": 2
}
