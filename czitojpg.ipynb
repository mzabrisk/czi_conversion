{
 "cells": [
  {
   "cell_type": "code",
   "execution_count": 5,
   "metadata": {},
   "outputs": [
    {
     "ename": "OSError",
     "evalue": "[Errno 30] Read-only file system: '/czi_conversion'",
     "output_type": "error",
     "traceback": [
      "\u001b[0;31m---------------------------------------------------------------------------\u001b[0m",
      "\u001b[0;31mOSError\u001b[0m                                   Traceback (most recent call last)",
      "Cell \u001b[0;32mIn[5], line 26\u001b[0m\n\u001b[1;32m     20\u001b[0m \u001b[38;5;66;03m# # create directory to save tiff files\u001b[39;00m\n\u001b[1;32m     21\u001b[0m \u001b[38;5;66;03m# tiff_dir = os.path.join(czi_dir, 'tiff_files')\u001b[39;00m\n\u001b[1;32m     22\u001b[0m \u001b[38;5;66;03m# os.makedirs(tiff_dir, exist_ok=True)\u001b[39;00m\n\u001b[1;32m     23\u001b[0m \n\u001b[1;32m     24\u001b[0m \u001b[38;5;66;03m# create directory to save jpg files\u001b[39;00m\n\u001b[1;32m     25\u001b[0m jpg_dir \u001b[38;5;241m=\u001b[39m os\u001b[38;5;241m.\u001b[39mpath\u001b[38;5;241m.\u001b[39mjoin(czi_dir, \u001b[38;5;124m'\u001b[39m\u001b[38;5;124mjpg_files\u001b[39m\u001b[38;5;124m'\u001b[39m)\n\u001b[0;32m---> 26\u001b[0m \u001b[43mos\u001b[49m\u001b[38;5;241;43m.\u001b[39;49m\u001b[43mmakedirs\u001b[49m\u001b[43m(\u001b[49m\u001b[43mjpg_dir\u001b[49m\u001b[43m,\u001b[49m\u001b[43m \u001b[49m\u001b[43mexist_ok\u001b[49m\u001b[38;5;241;43m=\u001b[39;49m\u001b[38;5;28;43;01mTrue\u001b[39;49;00m\u001b[43m)\u001b[49m\n\u001b[1;32m     28\u001b[0m \u001b[38;5;66;03m# Get all files in directory ending with '.czi'\u001b[39;00m\n\u001b[1;32m     29\u001b[0m czi_files \u001b[38;5;241m=\u001b[39m [file \u001b[38;5;28;01mfor\u001b[39;00m file \u001b[38;5;129;01min\u001b[39;00m os\u001b[38;5;241m.\u001b[39mlistdir(czi_dir) \u001b[38;5;28;01mif\u001b[39;00m file\u001b[38;5;241m.\u001b[39mendswith(\u001b[38;5;124m'\u001b[39m\u001b[38;5;124m.czi\u001b[39m\u001b[38;5;124m'\u001b[39m)]\n",
      "File \u001b[0;32m/opt/anaconda3/envs/PythonData/lib/python3.9/os.py:215\u001b[0m, in \u001b[0;36mmakedirs\u001b[0;34m(name, mode, exist_ok)\u001b[0m\n\u001b[1;32m    213\u001b[0m \u001b[38;5;28;01mif\u001b[39;00m head \u001b[38;5;129;01mand\u001b[39;00m tail \u001b[38;5;129;01mand\u001b[39;00m \u001b[38;5;129;01mnot\u001b[39;00m path\u001b[38;5;241m.\u001b[39mexists(head):\n\u001b[1;32m    214\u001b[0m     \u001b[38;5;28;01mtry\u001b[39;00m:\n\u001b[0;32m--> 215\u001b[0m         \u001b[43mmakedirs\u001b[49m\u001b[43m(\u001b[49m\u001b[43mhead\u001b[49m\u001b[43m,\u001b[49m\u001b[43m \u001b[49m\u001b[43mexist_ok\u001b[49m\u001b[38;5;241;43m=\u001b[39;49m\u001b[43mexist_ok\u001b[49m\u001b[43m)\u001b[49m\n\u001b[1;32m    216\u001b[0m     \u001b[38;5;28;01mexcept\u001b[39;00m \u001b[38;5;167;01mFileExistsError\u001b[39;00m:\n\u001b[1;32m    217\u001b[0m         \u001b[38;5;66;03m# Defeats race condition when another thread created the path\u001b[39;00m\n\u001b[1;32m    218\u001b[0m         \u001b[38;5;28;01mpass\u001b[39;00m\n",
      "File \u001b[0;32m/opt/anaconda3/envs/PythonData/lib/python3.9/os.py:215\u001b[0m, in \u001b[0;36mmakedirs\u001b[0;34m(name, mode, exist_ok)\u001b[0m\n\u001b[1;32m    213\u001b[0m \u001b[38;5;28;01mif\u001b[39;00m head \u001b[38;5;129;01mand\u001b[39;00m tail \u001b[38;5;129;01mand\u001b[39;00m \u001b[38;5;129;01mnot\u001b[39;00m path\u001b[38;5;241m.\u001b[39mexists(head):\n\u001b[1;32m    214\u001b[0m     \u001b[38;5;28;01mtry\u001b[39;00m:\n\u001b[0;32m--> 215\u001b[0m         \u001b[43mmakedirs\u001b[49m\u001b[43m(\u001b[49m\u001b[43mhead\u001b[49m\u001b[43m,\u001b[49m\u001b[43m \u001b[49m\u001b[43mexist_ok\u001b[49m\u001b[38;5;241;43m=\u001b[39;49m\u001b[43mexist_ok\u001b[49m\u001b[43m)\u001b[49m\n\u001b[1;32m    216\u001b[0m     \u001b[38;5;28;01mexcept\u001b[39;00m \u001b[38;5;167;01mFileExistsError\u001b[39;00m:\n\u001b[1;32m    217\u001b[0m         \u001b[38;5;66;03m# Defeats race condition when another thread created the path\u001b[39;00m\n\u001b[1;32m    218\u001b[0m         \u001b[38;5;28;01mpass\u001b[39;00m\n",
      "File \u001b[0;32m/opt/anaconda3/envs/PythonData/lib/python3.9/os.py:225\u001b[0m, in \u001b[0;36mmakedirs\u001b[0;34m(name, mode, exist_ok)\u001b[0m\n\u001b[1;32m    223\u001b[0m         \u001b[38;5;28;01mreturn\u001b[39;00m\n\u001b[1;32m    224\u001b[0m \u001b[38;5;28;01mtry\u001b[39;00m:\n\u001b[0;32m--> 225\u001b[0m     \u001b[43mmkdir\u001b[49m\u001b[43m(\u001b[49m\u001b[43mname\u001b[49m\u001b[43m,\u001b[49m\u001b[43m \u001b[49m\u001b[43mmode\u001b[49m\u001b[43m)\u001b[49m\n\u001b[1;32m    226\u001b[0m \u001b[38;5;28;01mexcept\u001b[39;00m \u001b[38;5;167;01mOSError\u001b[39;00m:\n\u001b[1;32m    227\u001b[0m     \u001b[38;5;66;03m# Cannot rely on checking for EEXIST, since the operating system\u001b[39;00m\n\u001b[1;32m    228\u001b[0m     \u001b[38;5;66;03m# could give priority to other errors like EACCES or EROFS\u001b[39;00m\n\u001b[1;32m    229\u001b[0m     \u001b[38;5;28;01mif\u001b[39;00m \u001b[38;5;129;01mnot\u001b[39;00m exist_ok \u001b[38;5;129;01mor\u001b[39;00m \u001b[38;5;129;01mnot\u001b[39;00m path\u001b[38;5;241m.\u001b[39misdir(name):\n",
      "\u001b[0;31mOSError\u001b[0m: [Errno 30] Read-only file system: '/czi_conversion'"
     ]
    }
   ],
   "source": [
    "# for converting straight to jpg. works on small files but crashes with large files\n",
    "\n",
    "import numpy as np\n",
    "import pathlib\n",
    "from PIL import Image\n",
    "import matplotlib.image\n",
    "from aicspylibczi import CziFile\n",
    "from pathlib import Path\n",
    "import os\n",
    "import tifffile\n",
    "from tqdm import tqdm\n",
    "import cv2\n",
    "\n",
    "Image.MAX_IMAGE_PIXELS = None\n",
    "\n",
    "# Path to directory containing the CZI files\n",
    "# czi_dir = '/Users/mattzabriskie/Library/CloudStorage/Box-Box/MattZ_Work/Clinicians_PIs/LubdhaShah_ViolaRieke/cervical_fus_goat_research/Data/Histology/scanned_slides/2023.08.08'\n",
    "czi_dir = '/czi_conversion/czi_files'\n",
    "\n",
    "# # create directory to save tiff files\n",
    "# tiff_dir = os.path.join(czi_dir, 'tiff_files')\n",
    "# os.makedirs(tiff_dir, exist_ok=True)\n",
    "\n",
    "# create directory to save jpg files\n",
    "jpg_dir = os.path.join(czi_dir, 'jpg_files')\n",
    "os.makedirs(jpg_dir, exist_ok=True)\n",
    "\n",
    "# Get all files in directory ending with '.czi'\n",
    "czi_files = [file for file in os.listdir(czi_dir) if file.endswith('.czi')]\n",
    "\n",
    "# Loop over all files in the directory\n",
    "for filename in tqdm(czi_files, desc=\"Converting files\"):\n",
    "    print(filename)\n",
    "\n",
    "    # check to see if the CZI has already been converted to JPG\n",
    "    if os.path.isfile(os.path.splitext(os.path.join(jpg_dir, filename))[0] + \".jpg\"):\n",
    "        print(\"A JPG file already exists for %s\" % filename)\n",
    "\n",
    "    # if no JPG, create JPG from CZI\n",
    "    else:\n",
    "        # Construct the full file path\n",
    "        czi_file = os.path.join(czi_dir, filename)\n",
    "\n",
    "        try:\n",
    "            # Try to read the CZI file\n",
    "            czi = CziFile(pathlib.Path(czi_file))\n",
    "\n",
    "            czi_data = czi.read_mosaic(C=0, scale_factor=1)\n",
    "\n",
    "        except Exception as e:\n",
    "            print(f\"File {filename} raised an error during processing: {str(e)}. Continuing with next file.\")        \n",
    "            continue\n",
    "            \n",
    "        # Construct the output file path (change the extension to .tiff)\n",
    "        jpg_file = os.path.join(jpg_dir, os.path.splitext(filename)[0] + '.jpg')\n",
    "        \n",
    "        # Save as a TIFF file\n",
    "\n",
    "        czi_data_resized = cv2.resize(czi_data[0], None, fx=0.1, fy=0.1)\n",
    "\n",
    "        matplotlib.image.imsave(jpg_file, czi_data_resized)\n",
    "\n",
    "print(\"All CZI files have been converted to JPG.\")\n"
   ]
  },
  {
   "cell_type": "code",
   "execution_count": 35,
   "metadata": {},
   "outputs": [
    {
     "data": {
      "text/plain": [
       "array([0, 0, 0], dtype=uint8)"
      ]
     },
     "execution_count": 35,
     "metadata": {},
     "output_type": "execute_result"
    }
   ],
   "source": [
    "czi_data[0][500][0]"
   ]
  },
  {
   "cell_type": "code",
   "execution_count": 27,
   "metadata": {},
   "outputs": [
    {
     "data": {
      "text/plain": [
       "(1850, 1601, 3)"
      ]
     },
     "execution_count": 27,
     "metadata": {},
     "output_type": "execute_result"
    }
   ],
   "source": [
    "czi_data_resized.shape"
   ]
  }
 ],
 "metadata": {
  "kernelspec": {
   "display_name": "PythonData",
   "language": "python",
   "name": "python3"
  },
  "language_info": {
   "codemirror_mode": {
    "name": "ipython",
    "version": 3
   },
   "file_extension": ".py",
   "mimetype": "text/x-python",
   "name": "python",
   "nbconvert_exporter": "python",
   "pygments_lexer": "ipython3",
   "version": "3.9.19"
  },
  "orig_nbformat": 4
 },
 "nbformat": 4,
 "nbformat_minor": 2
}
